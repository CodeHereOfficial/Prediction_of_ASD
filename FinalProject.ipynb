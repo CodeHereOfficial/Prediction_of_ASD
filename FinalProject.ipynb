{
 "cells": [
  {
   "cell_type": "markdown",
   "id": "b55d1da4",
   "metadata": {},
   "source": [
    "## Road Map:\n",
    "\n",
    "* [Step 0](#step0): Import Datasets.\n",
    "\n",
    "* [Step 1](#step1): Clean Datasets (The data needs to be cleaned; many rows contain missing data, and there may be erroneous data identifiable as outliers).\n",
    "\n",
    "* [Step 2](#step2): A quick visualization with *Seaborn*.\n",
    "\n",
    "* [Step 3](#step3): At First, We applied several Supervised Machine Learning (SML) techniques on the data for classification purpose.\n",
    "\n",
    "* [Step 4](#step4): Next, We experimented with different topologies, optimizers, and hyperparameters for different models.\n",
    "\n",
    "* [Step 5](#step5):Test the Modals\n",
    "\n",
    "\n",
    "\n"
   ]
  },
  {
   "cell_type": "markdown",
   "id": "9195875f",
   "metadata": {},
   "source": [
    "# Step 0: Import Datasets\n",
    "    We start by importing the 'ASD_data.csv' file into a Pandas dataframe and take a look at it."
   ]
  },
  {
   "cell_type": "code",
   "execution_count": 1,
   "id": "d2b3fdb1",
   "metadata": {},
   "outputs": [
    {
     "data": {
      "text/html": [
       "<div>\n",
       "<style scoped>\n",
       "    .dataframe tbody tr th:only-of-type {\n",
       "        vertical-align: middle;\n",
       "    }\n",
       "\n",
       "    .dataframe tbody tr th {\n",
       "        vertical-align: top;\n",
       "    }\n",
       "\n",
       "    .dataframe thead th {\n",
       "        text-align: right;\n",
       "    }\n",
       "</style>\n",
       "<table border=\"1\" class=\"dataframe\">\n",
       "  <thead>\n",
       "    <tr style=\"text-align: right;\">\n",
       "      <th></th>\n",
       "      <th>id</th>\n",
       "      <th>A1</th>\n",
       "      <th>A2</th>\n",
       "      <th>A3</th>\n",
       "      <th>A4</th>\n",
       "      <th>A5</th>\n",
       "      <th>A6</th>\n",
       "      <th>A7</th>\n",
       "      <th>A8</th>\n",
       "      <th>A9</th>\n",
       "      <th>...</th>\n",
       "      <th>gender</th>\n",
       "      <th>ethnicity</th>\n",
       "      <th>jundice</th>\n",
       "      <th>austim</th>\n",
       "      <th>contry_of_res</th>\n",
       "      <th>used_app_before</th>\n",
       "      <th>result</th>\n",
       "      <th>age_desc</th>\n",
       "      <th>relation</th>\n",
       "      <th>Class</th>\n",
       "    </tr>\n",
       "  </thead>\n",
       "  <tbody>\n",
       "    <tr>\n",
       "      <th>0</th>\n",
       "      <td>1</td>\n",
       "      <td>1</td>\n",
       "      <td>1</td>\n",
       "      <td>1</td>\n",
       "      <td>1</td>\n",
       "      <td>0</td>\n",
       "      <td>0</td>\n",
       "      <td>1</td>\n",
       "      <td>1</td>\n",
       "      <td>0</td>\n",
       "      <td>...</td>\n",
       "      <td>f</td>\n",
       "      <td>White-European</td>\n",
       "      <td>no</td>\n",
       "      <td>no</td>\n",
       "      <td>United States</td>\n",
       "      <td>no</td>\n",
       "      <td>6</td>\n",
       "      <td>18 and more</td>\n",
       "      <td>Self</td>\n",
       "      <td>NO</td>\n",
       "    </tr>\n",
       "    <tr>\n",
       "      <th>1</th>\n",
       "      <td>2</td>\n",
       "      <td>1</td>\n",
       "      <td>1</td>\n",
       "      <td>0</td>\n",
       "      <td>1</td>\n",
       "      <td>0</td>\n",
       "      <td>0</td>\n",
       "      <td>0</td>\n",
       "      <td>1</td>\n",
       "      <td>0</td>\n",
       "      <td>...</td>\n",
       "      <td>m</td>\n",
       "      <td>Latino</td>\n",
       "      <td>no</td>\n",
       "      <td>yes</td>\n",
       "      <td>Brazil</td>\n",
       "      <td>no</td>\n",
       "      <td>5</td>\n",
       "      <td>18 and more</td>\n",
       "      <td>Self</td>\n",
       "      <td>NO</td>\n",
       "    </tr>\n",
       "    <tr>\n",
       "      <th>2</th>\n",
       "      <td>3</td>\n",
       "      <td>1</td>\n",
       "      <td>1</td>\n",
       "      <td>0</td>\n",
       "      <td>1</td>\n",
       "      <td>1</td>\n",
       "      <td>0</td>\n",
       "      <td>1</td>\n",
       "      <td>1</td>\n",
       "      <td>1</td>\n",
       "      <td>...</td>\n",
       "      <td>m</td>\n",
       "      <td>Latino</td>\n",
       "      <td>yes</td>\n",
       "      <td>yes</td>\n",
       "      <td>Spain</td>\n",
       "      <td>no</td>\n",
       "      <td>8</td>\n",
       "      <td>18 and more</td>\n",
       "      <td>Parent</td>\n",
       "      <td>YES</td>\n",
       "    </tr>\n",
       "    <tr>\n",
       "      <th>3</th>\n",
       "      <td>4</td>\n",
       "      <td>1</td>\n",
       "      <td>1</td>\n",
       "      <td>0</td>\n",
       "      <td>1</td>\n",
       "      <td>0</td>\n",
       "      <td>0</td>\n",
       "      <td>1</td>\n",
       "      <td>1</td>\n",
       "      <td>0</td>\n",
       "      <td>...</td>\n",
       "      <td>f</td>\n",
       "      <td>White-European</td>\n",
       "      <td>no</td>\n",
       "      <td>yes</td>\n",
       "      <td>United States</td>\n",
       "      <td>no</td>\n",
       "      <td>6</td>\n",
       "      <td>18 and more</td>\n",
       "      <td>Self</td>\n",
       "      <td>NO</td>\n",
       "    </tr>\n",
       "    <tr>\n",
       "      <th>4</th>\n",
       "      <td>5</td>\n",
       "      <td>1</td>\n",
       "      <td>0</td>\n",
       "      <td>0</td>\n",
       "      <td>0</td>\n",
       "      <td>0</td>\n",
       "      <td>0</td>\n",
       "      <td>0</td>\n",
       "      <td>1</td>\n",
       "      <td>0</td>\n",
       "      <td>...</td>\n",
       "      <td>f</td>\n",
       "      <td>?</td>\n",
       "      <td>no</td>\n",
       "      <td>no</td>\n",
       "      <td>Egypt</td>\n",
       "      <td>no</td>\n",
       "      <td>2</td>\n",
       "      <td>18 and more</td>\n",
       "      <td>?</td>\n",
       "      <td>NO</td>\n",
       "    </tr>\n",
       "  </tbody>\n",
       "</table>\n",
       "<p>5 rows × 22 columns</p>\n",
       "</div>"
      ],
      "text/plain": [
       "   id  A1  A2  A3  A4  A5  A6  A7  A8  A9  ...  gender       ethnicity  \\\n",
       "0   1   1   1   1   1   0   0   1   1   0  ...       f  White-European   \n",
       "1   2   1   1   0   1   0   0   0   1   0  ...       m          Latino   \n",
       "2   3   1   1   0   1   1   0   1   1   1  ...       m          Latino   \n",
       "3   4   1   1   0   1   0   0   1   1   0  ...       f  White-European   \n",
       "4   5   1   0   0   0   0   0   0   1   0  ...       f               ?   \n",
       "\n",
       "  jundice austim  contry_of_res used_app_before result     age_desc  relation  \\\n",
       "0      no     no  United States              no      6  18 and more      Self   \n",
       "1      no    yes         Brazil              no      5  18 and more      Self   \n",
       "2     yes    yes          Spain              no      8  18 and more    Parent   \n",
       "3      no    yes  United States              no      6  18 and more      Self   \n",
       "4      no     no          Egypt              no      2  18 and more         ?   \n",
       "\n",
       "  Class  \n",
       "0    NO  \n",
       "1    NO  \n",
       "2   YES  \n",
       "3    NO  \n",
       "4    NO  \n",
       "\n",
       "[5 rows x 22 columns]"
      ]
     },
     "execution_count": 1,
     "metadata": {},
     "output_type": "execute_result"
    }
   ],
   "source": [
    "# Import libraries necessary for this project\n",
    "import numpy as np\n",
    "import pandas as pd\n",
    "from time import time\n",
    "from IPython.display import display # Allows the use of display() for DataFrames\n",
    "\n",
    "\n",
    "# Pretty display for notebooks\n",
    "%matplotlib inline\n",
    "\n",
    "\n",
    "data = pd.read_csv('ASD_data.csv')\n",
    "\n",
    "data.head(n=5)"
   ]
  },
  {
   "cell_type": "code",
   "execution_count": 2,
   "id": "bff038cd",
   "metadata": {},
   "outputs": [
    {
     "name": "stdout",
     "output_type": "stream",
     "text": [
      "Total number of records: 704\n",
      "Individuals diagonised with ASD: 189\n",
      "Individuals not diagonised with ASD: 515\n",
      "Percentage of individuals diagonised with ASD: 26.85%\n"
     ]
    }
   ],
   "source": [
    "# Total number of records\n",
    "n_records = len(data.index)\n",
    "\n",
    "# TODO: Number of records where individual's with ASD\n",
    "n_asd_yes = len(data[data['Class'] == 'YES'])\n",
    "\n",
    "# TODO: Number of records where individual's with no ASD\n",
    "n_asd_no = len(data[data['Class'] == 'NO'])\n",
    "\n",
    "# TODO: Percentage of individuals whose are with ASD\n",
    "yes_percent = float(n_asd_yes) / n_records *100\n",
    "\n",
    "# Print the results\n",
    "print (\"Total number of records: {}\".format(n_records))\n",
    "print (\"Individuals diagonised with ASD: {}\".format(n_asd_yes))\n",
    "print (\"Individuals not diagonised with ASD: {}\".format(n_asd_no))\n",
    "print (\"Percentage of individuals diagonised with ASD: {:.2f}%\".format(yes_percent))"
   ]
  },
  {
   "cell_type": "markdown",
   "id": "52773574",
   "metadata": {},
   "source": [
    "**Preparing the Data**\n",
    "Before data can be used as input for machine learning algorithms, it must be cleaned, formatted, and maybe even restructured — this is typically known as preprocessing. Unfortunately, for this dataset, there are many invalid or missing entries(?) we must deal with, moreover, there are some qualities about certain features that must be adjusted. This preprocessing can help tremendously with the outcome and predictive power of nearly all learning algorithms.\n",
    "\n",
    "We use the optional parmaters in read_csv to convert missing data (indicated by a ?) into NaN, and to add the appropriate column names ():"
   ]
  },
  {
   "cell_type": "code",
   "execution_count": 3,
   "id": "9fcf9969",
   "metadata": {},
   "outputs": [
    {
     "data": {
      "text/html": [
       "<div>\n",
       "<style scoped>\n",
       "    .dataframe tbody tr th:only-of-type {\n",
       "        vertical-align: middle;\n",
       "    }\n",
       "\n",
       "    .dataframe tbody tr th {\n",
       "        vertical-align: top;\n",
       "    }\n",
       "\n",
       "    .dataframe thead th {\n",
       "        text-align: right;\n",
       "    }\n",
       "</style>\n",
       "<table border=\"1\" class=\"dataframe\">\n",
       "  <thead>\n",
       "    <tr style=\"text-align: right;\">\n",
       "      <th></th>\n",
       "      <th>id</th>\n",
       "      <th>A1</th>\n",
       "      <th>A2</th>\n",
       "      <th>A3</th>\n",
       "      <th>A4</th>\n",
       "      <th>A5</th>\n",
       "      <th>A6</th>\n",
       "      <th>A7</th>\n",
       "      <th>A8</th>\n",
       "      <th>A9</th>\n",
       "      <th>...</th>\n",
       "      <th>gender</th>\n",
       "      <th>ethnicity</th>\n",
       "      <th>jundice</th>\n",
       "      <th>austim</th>\n",
       "      <th>contry_of_res</th>\n",
       "      <th>used_app_before</th>\n",
       "      <th>result</th>\n",
       "      <th>age_desc</th>\n",
       "      <th>relation</th>\n",
       "      <th>Class</th>\n",
       "    </tr>\n",
       "  </thead>\n",
       "  <tbody>\n",
       "    <tr>\n",
       "      <th>0</th>\n",
       "      <td>1</td>\n",
       "      <td>1</td>\n",
       "      <td>1</td>\n",
       "      <td>1</td>\n",
       "      <td>1</td>\n",
       "      <td>0</td>\n",
       "      <td>0</td>\n",
       "      <td>1</td>\n",
       "      <td>1</td>\n",
       "      <td>0</td>\n",
       "      <td>...</td>\n",
       "      <td>f</td>\n",
       "      <td>White-European</td>\n",
       "      <td>no</td>\n",
       "      <td>no</td>\n",
       "      <td>United States</td>\n",
       "      <td>no</td>\n",
       "      <td>6</td>\n",
       "      <td>18 and more</td>\n",
       "      <td>Self</td>\n",
       "      <td>NO</td>\n",
       "    </tr>\n",
       "    <tr>\n",
       "      <th>1</th>\n",
       "      <td>2</td>\n",
       "      <td>1</td>\n",
       "      <td>1</td>\n",
       "      <td>0</td>\n",
       "      <td>1</td>\n",
       "      <td>0</td>\n",
       "      <td>0</td>\n",
       "      <td>0</td>\n",
       "      <td>1</td>\n",
       "      <td>0</td>\n",
       "      <td>...</td>\n",
       "      <td>m</td>\n",
       "      <td>Latino</td>\n",
       "      <td>no</td>\n",
       "      <td>yes</td>\n",
       "      <td>Brazil</td>\n",
       "      <td>no</td>\n",
       "      <td>5</td>\n",
       "      <td>18 and more</td>\n",
       "      <td>Self</td>\n",
       "      <td>NO</td>\n",
       "    </tr>\n",
       "    <tr>\n",
       "      <th>2</th>\n",
       "      <td>3</td>\n",
       "      <td>1</td>\n",
       "      <td>1</td>\n",
       "      <td>0</td>\n",
       "      <td>1</td>\n",
       "      <td>1</td>\n",
       "      <td>0</td>\n",
       "      <td>1</td>\n",
       "      <td>1</td>\n",
       "      <td>1</td>\n",
       "      <td>...</td>\n",
       "      <td>m</td>\n",
       "      <td>Latino</td>\n",
       "      <td>yes</td>\n",
       "      <td>yes</td>\n",
       "      <td>Spain</td>\n",
       "      <td>no</td>\n",
       "      <td>8</td>\n",
       "      <td>18 and more</td>\n",
       "      <td>Parent</td>\n",
       "      <td>YES</td>\n",
       "    </tr>\n",
       "    <tr>\n",
       "      <th>3</th>\n",
       "      <td>4</td>\n",
       "      <td>1</td>\n",
       "      <td>1</td>\n",
       "      <td>0</td>\n",
       "      <td>1</td>\n",
       "      <td>0</td>\n",
       "      <td>0</td>\n",
       "      <td>1</td>\n",
       "      <td>1</td>\n",
       "      <td>0</td>\n",
       "      <td>...</td>\n",
       "      <td>f</td>\n",
       "      <td>White-European</td>\n",
       "      <td>no</td>\n",
       "      <td>yes</td>\n",
       "      <td>United States</td>\n",
       "      <td>no</td>\n",
       "      <td>6</td>\n",
       "      <td>18 and more</td>\n",
       "      <td>Self</td>\n",
       "      <td>NO</td>\n",
       "    </tr>\n",
       "    <tr>\n",
       "      <th>4</th>\n",
       "      <td>5</td>\n",
       "      <td>1</td>\n",
       "      <td>0</td>\n",
       "      <td>0</td>\n",
       "      <td>0</td>\n",
       "      <td>0</td>\n",
       "      <td>0</td>\n",
       "      <td>0</td>\n",
       "      <td>1</td>\n",
       "      <td>0</td>\n",
       "      <td>...</td>\n",
       "      <td>f</td>\n",
       "      <td>NaN</td>\n",
       "      <td>no</td>\n",
       "      <td>no</td>\n",
       "      <td>Egypt</td>\n",
       "      <td>no</td>\n",
       "      <td>2</td>\n",
       "      <td>18 and more</td>\n",
       "      <td>NaN</td>\n",
       "      <td>NO</td>\n",
       "    </tr>\n",
       "  </tbody>\n",
       "</table>\n",
       "<p>5 rows × 22 columns</p>\n",
       "</div>"
      ],
      "text/plain": [
       "   id  A1  A2  A3  A4  A5  A6  A7  A8  A9  ...  gender       ethnicity  \\\n",
       "0   1   1   1   1   1   0   0   1   1   0  ...       f  White-European   \n",
       "1   2   1   1   0   1   0   0   0   1   0  ...       m          Latino   \n",
       "2   3   1   1   0   1   1   0   1   1   1  ...       m          Latino   \n",
       "3   4   1   1   0   1   0   0   1   1   0  ...       f  White-European   \n",
       "4   5   1   0   0   0   0   0   0   1   0  ...       f             NaN   \n",
       "\n",
       "  jundice austim  contry_of_res used_app_before result     age_desc  relation  \\\n",
       "0      no     no  United States              no      6  18 and more      Self   \n",
       "1      no    yes         Brazil              no      5  18 and more      Self   \n",
       "2     yes    yes          Spain              no      8  18 and more    Parent   \n",
       "3      no    yes  United States              no      6  18 and more      Self   \n",
       "4      no     no          Egypt              no      2  18 and more       NaN   \n",
       "\n",
       "  Class  \n",
       "0    NO  \n",
       "1    NO  \n",
       "2   YES  \n",
       "3    NO  \n",
       "4    NO  \n",
       "\n",
       "[5 rows x 22 columns]"
      ]
     },
     "execution_count": 3,
     "metadata": {},
     "output_type": "execute_result"
    }
   ],
   "source": [
    "asd_data = pd.read_csv('ASD_data.csv', na_values=['?']) #replacing '?' with NaN.\n",
    "asd_data.head(n=5)"
   ]
  },
  {
   "cell_type": "code",
   "execution_count": 4,
   "id": "8ef55090",
   "metadata": {},
   "outputs": [
    {
     "data": {
      "text/html": [
       "<div>\n",
       "<style scoped>\n",
       "    .dataframe tbody tr th:only-of-type {\n",
       "        vertical-align: middle;\n",
       "    }\n",
       "\n",
       "    .dataframe tbody tr th {\n",
       "        vertical-align: top;\n",
       "    }\n",
       "\n",
       "    .dataframe thead th {\n",
       "        text-align: right;\n",
       "    }\n",
       "</style>\n",
       "<table border=\"1\" class=\"dataframe\">\n",
       "  <thead>\n",
       "    <tr style=\"text-align: right;\">\n",
       "      <th></th>\n",
       "      <th>id</th>\n",
       "      <th>A1</th>\n",
       "      <th>A2</th>\n",
       "      <th>A3</th>\n",
       "      <th>A4</th>\n",
       "      <th>A5</th>\n",
       "      <th>A6</th>\n",
       "      <th>A7</th>\n",
       "      <th>A8</th>\n",
       "      <th>A9</th>\n",
       "      <th>A10</th>\n",
       "      <th>age</th>\n",
       "      <th>result</th>\n",
       "    </tr>\n",
       "  </thead>\n",
       "  <tbody>\n",
       "    <tr>\n",
       "      <th>count</th>\n",
       "      <td>704.000000</td>\n",
       "      <td>704.000000</td>\n",
       "      <td>704.000000</td>\n",
       "      <td>704.000000</td>\n",
       "      <td>704.000000</td>\n",
       "      <td>704.000000</td>\n",
       "      <td>704.000000</td>\n",
       "      <td>704.000000</td>\n",
       "      <td>704.000000</td>\n",
       "      <td>704.000000</td>\n",
       "      <td>704.000000</td>\n",
       "      <td>702.000000</td>\n",
       "      <td>704.000000</td>\n",
       "    </tr>\n",
       "    <tr>\n",
       "      <th>mean</th>\n",
       "      <td>352.500000</td>\n",
       "      <td>0.721591</td>\n",
       "      <td>0.453125</td>\n",
       "      <td>0.457386</td>\n",
       "      <td>0.495739</td>\n",
       "      <td>0.498580</td>\n",
       "      <td>0.284091</td>\n",
       "      <td>0.417614</td>\n",
       "      <td>0.649148</td>\n",
       "      <td>0.323864</td>\n",
       "      <td>0.573864</td>\n",
       "      <td>29.206553</td>\n",
       "      <td>4.875000</td>\n",
       "    </tr>\n",
       "    <tr>\n",
       "      <th>std</th>\n",
       "      <td>203.371581</td>\n",
       "      <td>0.448535</td>\n",
       "      <td>0.498152</td>\n",
       "      <td>0.498535</td>\n",
       "      <td>0.500337</td>\n",
       "      <td>0.500353</td>\n",
       "      <td>0.451301</td>\n",
       "      <td>0.493516</td>\n",
       "      <td>0.477576</td>\n",
       "      <td>0.468281</td>\n",
       "      <td>0.494866</td>\n",
       "      <td>9.710286</td>\n",
       "      <td>2.501493</td>\n",
       "    </tr>\n",
       "    <tr>\n",
       "      <th>min</th>\n",
       "      <td>1.000000</td>\n",
       "      <td>0.000000</td>\n",
       "      <td>0.000000</td>\n",
       "      <td>0.000000</td>\n",
       "      <td>0.000000</td>\n",
       "      <td>0.000000</td>\n",
       "      <td>0.000000</td>\n",
       "      <td>0.000000</td>\n",
       "      <td>0.000000</td>\n",
       "      <td>0.000000</td>\n",
       "      <td>0.000000</td>\n",
       "      <td>17.000000</td>\n",
       "      <td>0.000000</td>\n",
       "    </tr>\n",
       "    <tr>\n",
       "      <th>25%</th>\n",
       "      <td>176.750000</td>\n",
       "      <td>0.000000</td>\n",
       "      <td>0.000000</td>\n",
       "      <td>0.000000</td>\n",
       "      <td>0.000000</td>\n",
       "      <td>0.000000</td>\n",
       "      <td>0.000000</td>\n",
       "      <td>0.000000</td>\n",
       "      <td>0.000000</td>\n",
       "      <td>0.000000</td>\n",
       "      <td>0.000000</td>\n",
       "      <td>21.000000</td>\n",
       "      <td>3.000000</td>\n",
       "    </tr>\n",
       "    <tr>\n",
       "      <th>50%</th>\n",
       "      <td>352.500000</td>\n",
       "      <td>1.000000</td>\n",
       "      <td>0.000000</td>\n",
       "      <td>0.000000</td>\n",
       "      <td>0.000000</td>\n",
       "      <td>0.000000</td>\n",
       "      <td>0.000000</td>\n",
       "      <td>0.000000</td>\n",
       "      <td>1.000000</td>\n",
       "      <td>0.000000</td>\n",
       "      <td>1.000000</td>\n",
       "      <td>27.000000</td>\n",
       "      <td>4.000000</td>\n",
       "    </tr>\n",
       "    <tr>\n",
       "      <th>75%</th>\n",
       "      <td>528.250000</td>\n",
       "      <td>1.000000</td>\n",
       "      <td>1.000000</td>\n",
       "      <td>1.000000</td>\n",
       "      <td>1.000000</td>\n",
       "      <td>1.000000</td>\n",
       "      <td>1.000000</td>\n",
       "      <td>1.000000</td>\n",
       "      <td>1.000000</td>\n",
       "      <td>1.000000</td>\n",
       "      <td>1.000000</td>\n",
       "      <td>35.000000</td>\n",
       "      <td>7.000000</td>\n",
       "    </tr>\n",
       "    <tr>\n",
       "      <th>max</th>\n",
       "      <td>704.000000</td>\n",
       "      <td>1.000000</td>\n",
       "      <td>1.000000</td>\n",
       "      <td>1.000000</td>\n",
       "      <td>1.000000</td>\n",
       "      <td>1.000000</td>\n",
       "      <td>1.000000</td>\n",
       "      <td>1.000000</td>\n",
       "      <td>1.000000</td>\n",
       "      <td>1.000000</td>\n",
       "      <td>1.000000</td>\n",
       "      <td>64.000000</td>\n",
       "      <td>10.000000</td>\n",
       "    </tr>\n",
       "  </tbody>\n",
       "</table>\n",
       "</div>"
      ],
      "text/plain": [
       "               id          A1          A2          A3          A4          A5  \\\n",
       "count  704.000000  704.000000  704.000000  704.000000  704.000000  704.000000   \n",
       "mean   352.500000    0.721591    0.453125    0.457386    0.495739    0.498580   \n",
       "std    203.371581    0.448535    0.498152    0.498535    0.500337    0.500353   \n",
       "min      1.000000    0.000000    0.000000    0.000000    0.000000    0.000000   \n",
       "25%    176.750000    0.000000    0.000000    0.000000    0.000000    0.000000   \n",
       "50%    352.500000    1.000000    0.000000    0.000000    0.000000    0.000000   \n",
       "75%    528.250000    1.000000    1.000000    1.000000    1.000000    1.000000   \n",
       "max    704.000000    1.000000    1.000000    1.000000    1.000000    1.000000   \n",
       "\n",
       "               A6          A7          A8          A9         A10         age  \\\n",
       "count  704.000000  704.000000  704.000000  704.000000  704.000000  702.000000   \n",
       "mean     0.284091    0.417614    0.649148    0.323864    0.573864   29.206553   \n",
       "std      0.451301    0.493516    0.477576    0.468281    0.494866    9.710286   \n",
       "min      0.000000    0.000000    0.000000    0.000000    0.000000   17.000000   \n",
       "25%      0.000000    0.000000    0.000000    0.000000    0.000000   21.000000   \n",
       "50%      0.000000    0.000000    1.000000    0.000000    1.000000   27.000000   \n",
       "75%      1.000000    1.000000    1.000000    1.000000    1.000000   35.000000   \n",
       "max      1.000000    1.000000    1.000000    1.000000    1.000000   64.000000   \n",
       "\n",
       "           result  \n",
       "count  704.000000  \n",
       "mean     4.875000  \n",
       "std      2.501493  \n",
       "min      0.000000  \n",
       "25%      3.000000  \n",
       "50%      4.000000  \n",
       "75%      7.000000  \n",
       "max     10.000000  "
      ]
     },
     "execution_count": 4,
     "metadata": {},
     "output_type": "execute_result"
    }
   ],
   "source": [
    "asd_data.describe()"
   ]
  },
  {
   "cell_type": "markdown",
   "id": "8fc4125a",
   "metadata": {},
   "source": [
    "# Step 1: Clean Datasets"
   ]
  },
  {
   "cell_type": "code",
   "execution_count": 5,
   "id": "7f425f7e",
   "metadata": {},
   "outputs": [
    {
     "data": {
      "text/html": [
       "<div>\n",
       "<style scoped>\n",
       "    .dataframe tbody tr th:only-of-type {\n",
       "        vertical-align: middle;\n",
       "    }\n",
       "\n",
       "    .dataframe tbody tr th {\n",
       "        vertical-align: top;\n",
       "    }\n",
       "\n",
       "    .dataframe thead th {\n",
       "        text-align: right;\n",
       "    }\n",
       "</style>\n",
       "<table border=\"1\" class=\"dataframe\">\n",
       "  <thead>\n",
       "    <tr style=\"text-align: right;\">\n",
       "      <th></th>\n",
       "      <th>id</th>\n",
       "      <th>A1</th>\n",
       "      <th>A2</th>\n",
       "      <th>A3</th>\n",
       "      <th>A4</th>\n",
       "      <th>A5</th>\n",
       "      <th>A6</th>\n",
       "      <th>A7</th>\n",
       "      <th>A8</th>\n",
       "      <th>A9</th>\n",
       "      <th>...</th>\n",
       "      <th>gender</th>\n",
       "      <th>ethnicity</th>\n",
       "      <th>jundice</th>\n",
       "      <th>austim</th>\n",
       "      <th>contry_of_res</th>\n",
       "      <th>used_app_before</th>\n",
       "      <th>result</th>\n",
       "      <th>age_desc</th>\n",
       "      <th>relation</th>\n",
       "      <th>Class</th>\n",
       "    </tr>\n",
       "  </thead>\n",
       "  <tbody>\n",
       "    <tr>\n",
       "      <th>4</th>\n",
       "      <td>5</td>\n",
       "      <td>1</td>\n",
       "      <td>0</td>\n",
       "      <td>0</td>\n",
       "      <td>0</td>\n",
       "      <td>0</td>\n",
       "      <td>0</td>\n",
       "      <td>0</td>\n",
       "      <td>1</td>\n",
       "      <td>0</td>\n",
       "      <td>...</td>\n",
       "      <td>f</td>\n",
       "      <td>NaN</td>\n",
       "      <td>no</td>\n",
       "      <td>no</td>\n",
       "      <td>Egypt</td>\n",
       "      <td>no</td>\n",
       "      <td>2</td>\n",
       "      <td>18 and more</td>\n",
       "      <td>NaN</td>\n",
       "      <td>NO</td>\n",
       "    </tr>\n",
       "    <tr>\n",
       "      <th>12</th>\n",
       "      <td>13</td>\n",
       "      <td>0</td>\n",
       "      <td>1</td>\n",
       "      <td>1</td>\n",
       "      <td>1</td>\n",
       "      <td>1</td>\n",
       "      <td>1</td>\n",
       "      <td>0</td>\n",
       "      <td>0</td>\n",
       "      <td>1</td>\n",
       "      <td>...</td>\n",
       "      <td>f</td>\n",
       "      <td>NaN</td>\n",
       "      <td>no</td>\n",
       "      <td>no</td>\n",
       "      <td>Bahamas</td>\n",
       "      <td>no</td>\n",
       "      <td>6</td>\n",
       "      <td>Less than 18</td>\n",
       "      <td>NaN</td>\n",
       "      <td>NO</td>\n",
       "    </tr>\n",
       "    <tr>\n",
       "      <th>13</th>\n",
       "      <td>14</td>\n",
       "      <td>1</td>\n",
       "      <td>0</td>\n",
       "      <td>0</td>\n",
       "      <td>0</td>\n",
       "      <td>0</td>\n",
       "      <td>0</td>\n",
       "      <td>1</td>\n",
       "      <td>1</td>\n",
       "      <td>0</td>\n",
       "      <td>...</td>\n",
       "      <td>m</td>\n",
       "      <td>NaN</td>\n",
       "      <td>no</td>\n",
       "      <td>no</td>\n",
       "      <td>Austria</td>\n",
       "      <td>no</td>\n",
       "      <td>4</td>\n",
       "      <td>Less than 18</td>\n",
       "      <td>NaN</td>\n",
       "      <td>NO</td>\n",
       "    </tr>\n",
       "    <tr>\n",
       "      <th>14</th>\n",
       "      <td>15</td>\n",
       "      <td>1</td>\n",
       "      <td>0</td>\n",
       "      <td>0</td>\n",
       "      <td>0</td>\n",
       "      <td>0</td>\n",
       "      <td>0</td>\n",
       "      <td>1</td>\n",
       "      <td>1</td>\n",
       "      <td>0</td>\n",
       "      <td>...</td>\n",
       "      <td>f</td>\n",
       "      <td>NaN</td>\n",
       "      <td>no</td>\n",
       "      <td>no</td>\n",
       "      <td>Argentina</td>\n",
       "      <td>no</td>\n",
       "      <td>4</td>\n",
       "      <td>Less than 18</td>\n",
       "      <td>NaN</td>\n",
       "      <td>NO</td>\n",
       "    </tr>\n",
       "    <tr>\n",
       "      <th>19</th>\n",
       "      <td>20</td>\n",
       "      <td>0</td>\n",
       "      <td>0</td>\n",
       "      <td>0</td>\n",
       "      <td>0</td>\n",
       "      <td>0</td>\n",
       "      <td>0</td>\n",
       "      <td>1</td>\n",
       "      <td>1</td>\n",
       "      <td>0</td>\n",
       "      <td>...</td>\n",
       "      <td>m</td>\n",
       "      <td>NaN</td>\n",
       "      <td>yes</td>\n",
       "      <td>no</td>\n",
       "      <td>United Arab Emirates</td>\n",
       "      <td>no</td>\n",
       "      <td>3</td>\n",
       "      <td>18 and more</td>\n",
       "      <td>NaN</td>\n",
       "      <td>NO</td>\n",
       "    </tr>\n",
       "    <tr>\n",
       "      <th>...</th>\n",
       "      <td>...</td>\n",
       "      <td>...</td>\n",
       "      <td>...</td>\n",
       "      <td>...</td>\n",
       "      <td>...</td>\n",
       "      <td>...</td>\n",
       "      <td>...</td>\n",
       "      <td>...</td>\n",
       "      <td>...</td>\n",
       "      <td>...</td>\n",
       "      <td>...</td>\n",
       "      <td>...</td>\n",
       "      <td>...</td>\n",
       "      <td>...</td>\n",
       "      <td>...</td>\n",
       "      <td>...</td>\n",
       "      <td>...</td>\n",
       "      <td>...</td>\n",
       "      <td>...</td>\n",
       "      <td>...</td>\n",
       "      <td>...</td>\n",
       "    </tr>\n",
       "    <tr>\n",
       "      <th>652</th>\n",
       "      <td>653</td>\n",
       "      <td>0</td>\n",
       "      <td>0</td>\n",
       "      <td>0</td>\n",
       "      <td>0</td>\n",
       "      <td>0</td>\n",
       "      <td>0</td>\n",
       "      <td>0</td>\n",
       "      <td>0</td>\n",
       "      <td>0</td>\n",
       "      <td>...</td>\n",
       "      <td>f</td>\n",
       "      <td>NaN</td>\n",
       "      <td>no</td>\n",
       "      <td>no</td>\n",
       "      <td>United States</td>\n",
       "      <td>no</td>\n",
       "      <td>1</td>\n",
       "      <td>18 and more</td>\n",
       "      <td>NaN</td>\n",
       "      <td>NO</td>\n",
       "    </tr>\n",
       "    <tr>\n",
       "      <th>658</th>\n",
       "      <td>659</td>\n",
       "      <td>0</td>\n",
       "      <td>0</td>\n",
       "      <td>1</td>\n",
       "      <td>1</td>\n",
       "      <td>0</td>\n",
       "      <td>0</td>\n",
       "      <td>1</td>\n",
       "      <td>0</td>\n",
       "      <td>0</td>\n",
       "      <td>...</td>\n",
       "      <td>m</td>\n",
       "      <td>NaN</td>\n",
       "      <td>no</td>\n",
       "      <td>no</td>\n",
       "      <td>Azerbaijan</td>\n",
       "      <td>no</td>\n",
       "      <td>3</td>\n",
       "      <td>18 and more</td>\n",
       "      <td>NaN</td>\n",
       "      <td>NO</td>\n",
       "    </tr>\n",
       "    <tr>\n",
       "      <th>659</th>\n",
       "      <td>660</td>\n",
       "      <td>1</td>\n",
       "      <td>1</td>\n",
       "      <td>1</td>\n",
       "      <td>1</td>\n",
       "      <td>1</td>\n",
       "      <td>1</td>\n",
       "      <td>0</td>\n",
       "      <td>0</td>\n",
       "      <td>1</td>\n",
       "      <td>...</td>\n",
       "      <td>m</td>\n",
       "      <td>NaN</td>\n",
       "      <td>no</td>\n",
       "      <td>no</td>\n",
       "      <td>Pakistan</td>\n",
       "      <td>no</td>\n",
       "      <td>8</td>\n",
       "      <td>18 and more</td>\n",
       "      <td>NaN</td>\n",
       "      <td>YES</td>\n",
       "    </tr>\n",
       "    <tr>\n",
       "      <th>666</th>\n",
       "      <td>667</td>\n",
       "      <td>0</td>\n",
       "      <td>0</td>\n",
       "      <td>0</td>\n",
       "      <td>0</td>\n",
       "      <td>0</td>\n",
       "      <td>0</td>\n",
       "      <td>0</td>\n",
       "      <td>1</td>\n",
       "      <td>0</td>\n",
       "      <td>...</td>\n",
       "      <td>m</td>\n",
       "      <td>NaN</td>\n",
       "      <td>no</td>\n",
       "      <td>no</td>\n",
       "      <td>Iraq</td>\n",
       "      <td>no</td>\n",
       "      <td>1</td>\n",
       "      <td>18 and more</td>\n",
       "      <td>NaN</td>\n",
       "      <td>NO</td>\n",
       "    </tr>\n",
       "    <tr>\n",
       "      <th>701</th>\n",
       "      <td>702</td>\n",
       "      <td>1</td>\n",
       "      <td>0</td>\n",
       "      <td>1</td>\n",
       "      <td>1</td>\n",
       "      <td>1</td>\n",
       "      <td>0</td>\n",
       "      <td>1</td>\n",
       "      <td>1</td>\n",
       "      <td>0</td>\n",
       "      <td>...</td>\n",
       "      <td>f</td>\n",
       "      <td>NaN</td>\n",
       "      <td>no</td>\n",
       "      <td>no</td>\n",
       "      <td>Russia</td>\n",
       "      <td>no</td>\n",
       "      <td>7</td>\n",
       "      <td>18 and more</td>\n",
       "      <td>NaN</td>\n",
       "      <td>YES</td>\n",
       "    </tr>\n",
       "  </tbody>\n",
       "</table>\n",
       "<p>95 rows × 22 columns</p>\n",
       "</div>"
      ],
      "text/plain": [
       "      id  A1  A2  A3  A4  A5  A6  A7  A8  A9  ...  gender  ethnicity jundice  \\\n",
       "4      5   1   0   0   0   0   0   0   1   0  ...       f        NaN      no   \n",
       "12    13   0   1   1   1   1   1   0   0   1  ...       f        NaN      no   \n",
       "13    14   1   0   0   0   0   0   1   1   0  ...       m        NaN      no   \n",
       "14    15   1   0   0   0   0   0   1   1   0  ...       f        NaN      no   \n",
       "19    20   0   0   0   0   0   0   1   1   0  ...       m        NaN     yes   \n",
       "..   ...  ..  ..  ..  ..  ..  ..  ..  ..  ..  ...     ...        ...     ...   \n",
       "652  653   0   0   0   0   0   0   0   0   0  ...       f        NaN      no   \n",
       "658  659   0   0   1   1   0   0   1   0   0  ...       m        NaN      no   \n",
       "659  660   1   1   1   1   1   1   0   0   1  ...       m        NaN      no   \n",
       "666  667   0   0   0   0   0   0   0   1   0  ...       m        NaN      no   \n",
       "701  702   1   0   1   1   1   0   1   1   0  ...       f        NaN      no   \n",
       "\n",
       "    austim         contry_of_res used_app_before result      age_desc  \\\n",
       "4       no                 Egypt              no      2   18 and more   \n",
       "12      no               Bahamas              no      6  Less than 18   \n",
       "13      no               Austria              no      4  Less than 18   \n",
       "14      no             Argentina              no      4  Less than 18   \n",
       "19      no  United Arab Emirates              no      3   18 and more   \n",
       "..     ...                   ...             ...    ...           ...   \n",
       "652     no         United States              no      1   18 and more   \n",
       "658     no            Azerbaijan              no      3   18 and more   \n",
       "659     no              Pakistan              no      8   18 and more   \n",
       "666     no                  Iraq              no      1   18 and more   \n",
       "701     no                Russia              no      7   18 and more   \n",
       "\n",
       "     relation Class  \n",
       "4         NaN    NO  \n",
       "12        NaN    NO  \n",
       "13        NaN    NO  \n",
       "14        NaN    NO  \n",
       "19        NaN    NO  \n",
       "..        ...   ...  \n",
       "652       NaN    NO  \n",
       "658       NaN    NO  \n",
       "659       NaN   YES  \n",
       "666       NaN    NO  \n",
       "701       NaN   YES  \n",
       "\n",
       "[95 rows x 22 columns]"
      ]
     },
     "execution_count": 5,
     "metadata": {},
     "output_type": "execute_result"
    }
   ],
   "source": [
    "asd_data.loc[(asd_data['age'].isnull()) |(asd_data['gender'].isnull()) |(asd_data['ethnicity'].isnull()) \n",
    "|(asd_data['jundice'].isnull())|(asd_data['austim'].isnull()) |(asd_data['contry_of_res'].isnull())\n",
    "            |(asd_data['used_app_before'].isnull())|(asd_data['result'].isnull())|(asd_data['age_desc'].isnull())\n",
    "            |(asd_data['relation'].isnull())]  #This selects the rows with missing data."
   ]
  },
  {
   "cell_type": "code",
   "execution_count": 6,
   "id": "4e065ed0",
   "metadata": {},
   "outputs": [
    {
     "data": {
      "text/html": [
       "<div>\n",
       "<style scoped>\n",
       "    .dataframe tbody tr th:only-of-type {\n",
       "        vertical-align: middle;\n",
       "    }\n",
       "\n",
       "    .dataframe tbody tr th {\n",
       "        vertical-align: top;\n",
       "    }\n",
       "\n",
       "    .dataframe thead th {\n",
       "        text-align: right;\n",
       "    }\n",
       "</style>\n",
       "<table border=\"1\" class=\"dataframe\">\n",
       "  <thead>\n",
       "    <tr style=\"text-align: right;\">\n",
       "      <th></th>\n",
       "      <th>id</th>\n",
       "      <th>A1</th>\n",
       "      <th>A2</th>\n",
       "      <th>A3</th>\n",
       "      <th>A4</th>\n",
       "      <th>A5</th>\n",
       "      <th>A6</th>\n",
       "      <th>A7</th>\n",
       "      <th>A8</th>\n",
       "      <th>A9</th>\n",
       "      <th>A10</th>\n",
       "      <th>age</th>\n",
       "      <th>result</th>\n",
       "    </tr>\n",
       "  </thead>\n",
       "  <tbody>\n",
       "    <tr>\n",
       "      <th>count</th>\n",
       "      <td>609.000000</td>\n",
       "      <td>609.000000</td>\n",
       "      <td>609.000000</td>\n",
       "      <td>609.000000</td>\n",
       "      <td>609.000000</td>\n",
       "      <td>609.000000</td>\n",
       "      <td>609.000000</td>\n",
       "      <td>609.000000</td>\n",
       "      <td>609.000000</td>\n",
       "      <td>609.000000</td>\n",
       "      <td>609.000000</td>\n",
       "      <td>609.000000</td>\n",
       "      <td>609.000000</td>\n",
       "    </tr>\n",
       "    <tr>\n",
       "      <th>mean</th>\n",
       "      <td>349.725780</td>\n",
       "      <td>0.740558</td>\n",
       "      <td>0.469622</td>\n",
       "      <td>0.481117</td>\n",
       "      <td>0.520525</td>\n",
       "      <td>0.525452</td>\n",
       "      <td>0.307061</td>\n",
       "      <td>0.428571</td>\n",
       "      <td>0.665025</td>\n",
       "      <td>0.341544</td>\n",
       "      <td>0.597701</td>\n",
       "      <td>29.648604</td>\n",
       "      <td>5.077176</td>\n",
       "    </tr>\n",
       "    <tr>\n",
       "      <th>std</th>\n",
       "      <td>207.856238</td>\n",
       "      <td>0.438689</td>\n",
       "      <td>0.499487</td>\n",
       "      <td>0.500054</td>\n",
       "      <td>0.499989</td>\n",
       "      <td>0.499762</td>\n",
       "      <td>0.461654</td>\n",
       "      <td>0.495278</td>\n",
       "      <td>0.472370</td>\n",
       "      <td>0.474617</td>\n",
       "      <td>0.490765</td>\n",
       "      <td>9.692034</td>\n",
       "      <td>2.522717</td>\n",
       "    </tr>\n",
       "    <tr>\n",
       "      <th>min</th>\n",
       "      <td>1.000000</td>\n",
       "      <td>0.000000</td>\n",
       "      <td>0.000000</td>\n",
       "      <td>0.000000</td>\n",
       "      <td>0.000000</td>\n",
       "      <td>0.000000</td>\n",
       "      <td>0.000000</td>\n",
       "      <td>0.000000</td>\n",
       "      <td>0.000000</td>\n",
       "      <td>0.000000</td>\n",
       "      <td>0.000000</td>\n",
       "      <td>17.000000</td>\n",
       "      <td>0.000000</td>\n",
       "    </tr>\n",
       "    <tr>\n",
       "      <th>25%</th>\n",
       "      <td>166.000000</td>\n",
       "      <td>0.000000</td>\n",
       "      <td>0.000000</td>\n",
       "      <td>0.000000</td>\n",
       "      <td>0.000000</td>\n",
       "      <td>0.000000</td>\n",
       "      <td>0.000000</td>\n",
       "      <td>0.000000</td>\n",
       "      <td>0.000000</td>\n",
       "      <td>0.000000</td>\n",
       "      <td>0.000000</td>\n",
       "      <td>22.000000</td>\n",
       "      <td>3.000000</td>\n",
       "    </tr>\n",
       "    <tr>\n",
       "      <th>50%</th>\n",
       "      <td>329.000000</td>\n",
       "      <td>1.000000</td>\n",
       "      <td>0.000000</td>\n",
       "      <td>0.000000</td>\n",
       "      <td>1.000000</td>\n",
       "      <td>1.000000</td>\n",
       "      <td>0.000000</td>\n",
       "      <td>0.000000</td>\n",
       "      <td>1.000000</td>\n",
       "      <td>0.000000</td>\n",
       "      <td>1.000000</td>\n",
       "      <td>27.000000</td>\n",
       "      <td>5.000000</td>\n",
       "    </tr>\n",
       "    <tr>\n",
       "      <th>75%</th>\n",
       "      <td>533.000000</td>\n",
       "      <td>1.000000</td>\n",
       "      <td>1.000000</td>\n",
       "      <td>1.000000</td>\n",
       "      <td>1.000000</td>\n",
       "      <td>1.000000</td>\n",
       "      <td>1.000000</td>\n",
       "      <td>1.000000</td>\n",
       "      <td>1.000000</td>\n",
       "      <td>1.000000</td>\n",
       "      <td>1.000000</td>\n",
       "      <td>35.000000</td>\n",
       "      <td>7.000000</td>\n",
       "    </tr>\n",
       "    <tr>\n",
       "      <th>max</th>\n",
       "      <td>704.000000</td>\n",
       "      <td>1.000000</td>\n",
       "      <td>1.000000</td>\n",
       "      <td>1.000000</td>\n",
       "      <td>1.000000</td>\n",
       "      <td>1.000000</td>\n",
       "      <td>1.000000</td>\n",
       "      <td>1.000000</td>\n",
       "      <td>1.000000</td>\n",
       "      <td>1.000000</td>\n",
       "      <td>1.000000</td>\n",
       "      <td>64.000000</td>\n",
       "      <td>10.000000</td>\n",
       "    </tr>\n",
       "  </tbody>\n",
       "</table>\n",
       "</div>"
      ],
      "text/plain": [
       "               id          A1          A2          A3          A4          A5  \\\n",
       "count  609.000000  609.000000  609.000000  609.000000  609.000000  609.000000   \n",
       "mean   349.725780    0.740558    0.469622    0.481117    0.520525    0.525452   \n",
       "std    207.856238    0.438689    0.499487    0.500054    0.499989    0.499762   \n",
       "min      1.000000    0.000000    0.000000    0.000000    0.000000    0.000000   \n",
       "25%    166.000000    0.000000    0.000000    0.000000    0.000000    0.000000   \n",
       "50%    329.000000    1.000000    0.000000    0.000000    1.000000    1.000000   \n",
       "75%    533.000000    1.000000    1.000000    1.000000    1.000000    1.000000   \n",
       "max    704.000000    1.000000    1.000000    1.000000    1.000000    1.000000   \n",
       "\n",
       "               A6          A7          A8          A9         A10         age  \\\n",
       "count  609.000000  609.000000  609.000000  609.000000  609.000000  609.000000   \n",
       "mean     0.307061    0.428571    0.665025    0.341544    0.597701   29.648604   \n",
       "std      0.461654    0.495278    0.472370    0.474617    0.490765    9.692034   \n",
       "min      0.000000    0.000000    0.000000    0.000000    0.000000   17.000000   \n",
       "25%      0.000000    0.000000    0.000000    0.000000    0.000000   22.000000   \n",
       "50%      0.000000    0.000000    1.000000    0.000000    1.000000   27.000000   \n",
       "75%      1.000000    1.000000    1.000000    1.000000    1.000000   35.000000   \n",
       "max      1.000000    1.000000    1.000000    1.000000    1.000000   64.000000   \n",
       "\n",
       "           result  \n",
       "count  609.000000  \n",
       "mean     5.077176  \n",
       "std      2.522717  \n",
       "min      0.000000  \n",
       "25%      3.000000  \n",
       "50%      5.000000  \n",
       "75%      7.000000  \n",
       "max     10.000000  "
      ]
     },
     "execution_count": 6,
     "metadata": {},
     "output_type": "execute_result"
    }
   ],
   "source": [
    "asd_data.dropna(inplace=True)  #delete rows with missing data. \n",
    "asd_data.describe()"
   ]
  },
  {
   "cell_type": "markdown",
   "id": "1c958cd5",
   "metadata": {},
   "source": [
    "Let's check out the data types of all our features including the target feature. Moreover, lets count the total number of instances and the target-class distribution."
   ]
  },
  {
   "cell_type": "code",
   "execution_count": 7,
   "id": "b66833a0",
   "metadata": {},
   "outputs": [
    {
     "name": "stdout",
     "output_type": "stream",
     "text": [
      "id                   int64\n",
      "A1                   int64\n",
      "A2                   int64\n",
      "A3                   int64\n",
      "A4                   int64\n",
      "A5                   int64\n",
      "A6                   int64\n",
      "A7                   int64\n",
      "A8                   int64\n",
      "A9                   int64\n",
      "A10                  int64\n",
      "age                float64\n",
      "gender              object\n",
      "ethnicity           object\n",
      "jundice             object\n",
      "austim              object\n",
      "contry_of_res       object\n",
      "used_app_before     object\n",
      "result               int64\n",
      "age_desc            object\n",
      "relation            object\n",
      "Class               object\n",
      "dtype: object\n",
      "Total number of records: 609\n",
      "Individuals diagonised with ASD: 180\n",
      "Individuals not diagonised with ASD: 429\n"
     ]
    }
   ],
   "source": [
    "# Reminder of the features:\n",
    "print(asd_data.dtypes)\n",
    "\n",
    "\n",
    "# Total number of records in clean dataset\n",
    "n_records = len(asd_data.index)\n",
    "\n",
    "# TODO: Number of records where individual's with ASD in the clean dataset\n",
    "n_asd_yes = len(asd_data[asd_data['Class'] == 'YES'])\n",
    "\n",
    "# TODO: Number of records where individual's with no ASD in the clean dataset\n",
    "n_asd_no = len(asd_data[asd_data['Class'] == 'NO'])\n",
    "\n",
    "# Print the results\n",
    "print (\"Total number of records: {}\".format(n_records))\n",
    "print (\"Individuals diagonised with ASD: {}\".format(n_asd_yes))\n",
    "print (\"Individuals not diagonised with ASD: {}\".format(n_asd_no))"
   ]
  },
  {
   "cell_type": "markdown",
   "id": "a7defec6",
   "metadata": {},
   "source": [
    "# Step 2: A quick visualization with Seaborn"
   ]
  },
  {
   "cell_type": "code",
   "execution_count": 8,
   "id": "7f448729",
   "metadata": {},
   "outputs": [],
   "source": [
    "import seaborn as sns\n",
    "import matplotlib.pyplot as plt\n",
    "sns.set(style=\"darkgrid\", color_codes=True)"
   ]
  },
  {
   "cell_type": "code",
   "execution_count": 9,
   "id": "357f4715",
   "metadata": {},
   "outputs": [
    {
     "data": {
      "text/plain": [
       "<AxesSubplot:xlabel='jundice', ylabel='result'>"
      ]
     },
     "execution_count": 9,
     "metadata": {},
     "output_type": "execute_result"
    },
    {
     "data": {
      "image/png": "[encoded data removed]",
      "text/plain": [
       "<Figure size 432x288 with 1 Axes>"
      ]
     },
     "metadata": {},
     "output_type": "display_data"
    }
   ],
   "source": [
    "# Draw a nested violinplot and split the violins for easier comparison #hue- takes column name for color encoding.\n",
    "sns.violinplot(x=\"jundice\", y=\"result\", hue=\"austim\", data=asd_data, split=True,\n",
    "                inner=\"box\", palette={'yes': \"r\", 'no': \"b\"})\n"
   ]
  },
  {
   "cell_type": "code",
   "execution_count": 10,
   "id": "6082fd25",
   "metadata": {},
   "outputs": [
    {
     "data": {
      "text/plain": [
       "<AxesSubplot:xlabel='jundice', ylabel='result'>"
      ]
     },
     "execution_count": 10,
     "metadata": {},
     "output_type": "execute_result"
    },
    {
     "data": {
      "image/png": "[encoded data removed]",
      "text/plain": [
       "<Figure size 432x288 with 1 Axes>"
      ]
     },
     "metadata": {},
     "output_type": "display_data"
    }
   ],
   "source": [
    "# Draw a nested violinplot and split the violins for easier comparison\n",
    "sns.violinplot(x=\"jundice\", y=\"result\", hue=\"Class\", data=asd_data, split=True,\n",
    "                inner=\"quart\", palette={'YES': \"r\", 'NO': \"b\"})\n"
   ]
  },
  {
   "cell_type": "code",
   "execution_count": 11,
   "id": "3c6a27ac",
   "metadata": {},
   "outputs": [
    {
     "data": {
      "text/plain": [
       "<AxesSubplot:xlabel='gender', ylabel='result'>"
      ]
     },
     "execution_count": 11,
     "metadata": {},
     "output_type": "execute_result"
    },
    {
     "data": {
      "image/png": "[encoded data removed]",
      "text/plain": [
       "<Figure size 432x288 with 1 Axes>"
      ]
     },
     "metadata": {},
     "output_type": "display_data"
    }
   ],
   "source": [
    "# Draw a nested violinplot and split the violins for easier comparison\n",
    "sns.violinplot(x=\"gender\", y=\"result\", hue=\"Class\", data=asd_data, split=True,\n",
    "                inner=\"quart\", palette={'YES': \"r\", 'NO': \"b\"})\n",
    "#sns.despine(left=True)"
   ]
  },
  {
   "cell_type": "code",
   "execution_count": 12,
   "id": "7c3f3efe",
   "metadata": {},
   "outputs": [
    {
     "name": "stderr",
     "output_type": "stream",
     "text": [
      "C:\\Users\\Snehal Rajapurkar\\anaconda3\\lib\\site-packages\\seaborn\\categorical.py:3714: UserWarning: The `factorplot` function has been renamed to `catplot`. The original name will be removed in a future release. Please update your code. Note that the default `kind` in `factorplot` (`'point'`) has changed `'strip'` in `catplot`.\n",
      "  warnings.warn(msg)\n",
      "C:\\Users\\Snehal Rajapurkar\\anaconda3\\lib\\site-packages\\seaborn\\categorical.py:1296: UserWarning: 15.1% of the points cannot be placed; you may want to decrease the size of the markers or use stripplot.\n",
      "  warnings.warn(msg, UserWarning)\n",
      "C:\\Users\\Snehal Rajapurkar\\anaconda3\\lib\\site-packages\\seaborn\\categorical.py:1296: UserWarning: 27.1% of the points cannot be placed; you may want to decrease the size of the markers or use stripplot.\n",
      "  warnings.warn(msg, UserWarning)\n"
     ]
    },
    {
     "data": {
      "image/png": "[encoded data removed]",
      "text/plain": [
       "<Figure size 781.6x360 with 2 Axes>"
      ]
     },
     "metadata": {},
     "output_type": "display_data"
    }
   ],
   "source": [
    "sns.factorplot(x=\"jundice\", y=\"result\", hue=\"Class\", col=\"gender\", data=asd_data, kind=\"swarm\");"
   ]
  },
  {
   "cell_type": "code",
   "execution_count": 13,
   "id": "3c73863e",
   "metadata": {},
   "outputs": [
    {
     "name": "stderr",
     "output_type": "stream",
     "text": [
      "C:\\Users\\Snehal Rajapurkar\\anaconda3\\lib\\site-packages\\seaborn\\categorical.py:3714: UserWarning: The `factorplot` function has been renamed to `catplot`. The original name will be removed in a future release. Please update your code. Note that the default `kind` in `factorplot` (`'point'`) has changed `'strip'` in `catplot`.\n",
      "  warnings.warn(msg)\n",
      "C:\\Users\\Snehal Rajapurkar\\anaconda3\\lib\\site-packages\\seaborn\\categorical.py:3720: UserWarning: The `size` parameter has been renamed to `height`; please update your code.\n",
      "  warnings.warn(msg, UserWarning)\n"
     ]
    },
    {
     "data": {
      "image/png": "[encoded data removed]",
      "text/plain": [
       "<Figure size 781.6x288 with 5 Axes>"
      ]
     },
     "metadata": {},
     "output_type": "display_data"
    }
   ],
   "source": [
    "sns.factorplot(x=\"gender\", y=\"result\", hue=\"Class\",\n",
    "               col=\"relation\", data=asd_data, kind=\"box\", size=4, aspect=.5, palette={'YES': \"r\", 'NO': \"b\"});"
   ]
  },
  {
   "cell_type": "code",
   "execution_count": 14,
   "id": "766286d7",
   "metadata": {},
   "outputs": [
    {
     "name": "stderr",
     "output_type": "stream",
     "text": [
      "C:\\Users\\Snehal Rajapurkar\\anaconda3\\lib\\site-packages\\seaborn\\categorical.py:3714: UserWarning: The `factorplot` function has been renamed to `catplot`. The original name will be removed in a future release. Please update your code. Note that the default `kind` in `factorplot` (`'point'`) has changed `'strip'` in `catplot`.\n",
      "  warnings.warn(msg)\n",
      "C:\\Users\\Snehal Rajapurkar\\anaconda3\\lib\\site-packages\\seaborn\\categorical.py:3720: UserWarning: The `size` parameter has been renamed to `height`; please update your code.\n",
      "  warnings.warn(msg, UserWarning)\n"
     ]
    },
    {
     "data": {
      "image/png": "[encoded data removed]",
      "text/plain": [
       "<Figure size 552.85x720 with 5 Axes>"
      ]
     },
     "metadata": {},
     "output_type": "display_data"
    }
   ],
   "source": [
    "#multiploting\n",
    "g = sns.factorplot(x=\"result\", y=\"jundice\",\n",
    "                   hue=\"gender\", row=\"relation\",\n",
    "                   data=asd_data,\n",
    "                    orient=\"h\", size=2, aspect=3.5, palette={'f': \"r\", 'm': \"b\"},\n",
    "                  kind=\"violin\", dodge=True, cut=0, bw=.2)"
   ]
  },
  {
   "cell_type": "code",
   "execution_count": 15,
   "id": "8792c4ef",
   "metadata": {},
   "outputs": [
    {
     "data": {
      "text/html": [
       "<div>\n",
       "<style scoped>\n",
       "    .dataframe tbody tr th:only-of-type {\n",
       "        vertical-align: middle;\n",
       "    }\n",
       "\n",
       "    .dataframe tbody tr th {\n",
       "        vertical-align: top;\n",
       "    }\n",
       "\n",
       "    .dataframe thead th {\n",
       "        text-align: right;\n",
       "    }\n",
       "</style>\n",
       "<table border=\"1\" class=\"dataframe\">\n",
       "  <thead>\n",
       "    <tr style=\"text-align: right;\">\n",
       "      <th></th>\n",
       "      <th>id</th>\n",
       "      <th>A1</th>\n",
       "      <th>A2</th>\n",
       "      <th>A3</th>\n",
       "      <th>A4</th>\n",
       "      <th>A5</th>\n",
       "      <th>A6</th>\n",
       "      <th>A7</th>\n",
       "      <th>A8</th>\n",
       "      <th>A9</th>\n",
       "      <th>...</th>\n",
       "      <th>gender</th>\n",
       "      <th>ethnicity</th>\n",
       "      <th>jundice</th>\n",
       "      <th>austim</th>\n",
       "      <th>contry_of_res</th>\n",
       "      <th>used_app_before</th>\n",
       "      <th>result</th>\n",
       "      <th>age_desc</th>\n",
       "      <th>relation</th>\n",
       "      <th>Class</th>\n",
       "    </tr>\n",
       "  </thead>\n",
       "  <tbody>\n",
       "    <tr>\n",
       "      <th>698</th>\n",
       "      <td>699</td>\n",
       "      <td>1</td>\n",
       "      <td>1</td>\n",
       "      <td>1</td>\n",
       "      <td>1</td>\n",
       "      <td>1</td>\n",
       "      <td>1</td>\n",
       "      <td>1</td>\n",
       "      <td>1</td>\n",
       "      <td>1</td>\n",
       "      <td>...</td>\n",
       "      <td>f</td>\n",
       "      <td>Pasifika</td>\n",
       "      <td>no</td>\n",
       "      <td>no</td>\n",
       "      <td>Australia</td>\n",
       "      <td>no</td>\n",
       "      <td>10</td>\n",
       "      <td>18 and more</td>\n",
       "      <td>Self</td>\n",
       "      <td>YES</td>\n",
       "    </tr>\n",
       "    <tr>\n",
       "      <th>699</th>\n",
       "      <td>700</td>\n",
       "      <td>0</td>\n",
       "      <td>1</td>\n",
       "      <td>0</td>\n",
       "      <td>1</td>\n",
       "      <td>1</td>\n",
       "      <td>0</td>\n",
       "      <td>1</td>\n",
       "      <td>1</td>\n",
       "      <td>1</td>\n",
       "      <td>...</td>\n",
       "      <td>f</td>\n",
       "      <td>White-European</td>\n",
       "      <td>no</td>\n",
       "      <td>no</td>\n",
       "      <td>Russia</td>\n",
       "      <td>no</td>\n",
       "      <td>7</td>\n",
       "      <td>18 and more</td>\n",
       "      <td>Self</td>\n",
       "      <td>YES</td>\n",
       "    </tr>\n",
       "    <tr>\n",
       "      <th>700</th>\n",
       "      <td>701</td>\n",
       "      <td>1</td>\n",
       "      <td>0</td>\n",
       "      <td>0</td>\n",
       "      <td>0</td>\n",
       "      <td>0</td>\n",
       "      <td>0</td>\n",
       "      <td>0</td>\n",
       "      <td>1</td>\n",
       "      <td>0</td>\n",
       "      <td>...</td>\n",
       "      <td>m</td>\n",
       "      <td>Hispanic</td>\n",
       "      <td>no</td>\n",
       "      <td>no</td>\n",
       "      <td>Mexico</td>\n",
       "      <td>no</td>\n",
       "      <td>3</td>\n",
       "      <td>18 and more</td>\n",
       "      <td>Parent</td>\n",
       "      <td>NO</td>\n",
       "    </tr>\n",
       "    <tr>\n",
       "      <th>702</th>\n",
       "      <td>703</td>\n",
       "      <td>1</td>\n",
       "      <td>0</td>\n",
       "      <td>0</td>\n",
       "      <td>1</td>\n",
       "      <td>1</td>\n",
       "      <td>0</td>\n",
       "      <td>1</td>\n",
       "      <td>0</td>\n",
       "      <td>1</td>\n",
       "      <td>...</td>\n",
       "      <td>m</td>\n",
       "      <td>South Asian</td>\n",
       "      <td>no</td>\n",
       "      <td>no</td>\n",
       "      <td>Pakistan</td>\n",
       "      <td>no</td>\n",
       "      <td>6</td>\n",
       "      <td>18 and more</td>\n",
       "      <td>Self</td>\n",
       "      <td>NO</td>\n",
       "    </tr>\n",
       "    <tr>\n",
       "      <th>703</th>\n",
       "      <td>704</td>\n",
       "      <td>1</td>\n",
       "      <td>0</td>\n",
       "      <td>1</td>\n",
       "      <td>1</td>\n",
       "      <td>1</td>\n",
       "      <td>0</td>\n",
       "      <td>1</td>\n",
       "      <td>1</td>\n",
       "      <td>1</td>\n",
       "      <td>...</td>\n",
       "      <td>f</td>\n",
       "      <td>White-European</td>\n",
       "      <td>no</td>\n",
       "      <td>no</td>\n",
       "      <td>Cyprus</td>\n",
       "      <td>no</td>\n",
       "      <td>8</td>\n",
       "      <td>18 and more</td>\n",
       "      <td>Self</td>\n",
       "      <td>YES</td>\n",
       "    </tr>\n",
       "  </tbody>\n",
       "</table>\n",
       "<p>5 rows × 22 columns</p>\n",
       "</div>"
      ],
      "text/plain": [
       "      id  A1  A2  A3  A4  A5  A6  A7  A8  A9  ...  gender       ethnicity  \\\n",
       "698  699   1   1   1   1   1   1   1   1   1  ...       f        Pasifika   \n",
       "699  700   0   1   0   1   1   0   1   1   1  ...       f  White-European   \n",
       "700  701   1   0   0   0   0   0   0   1   0  ...       m        Hispanic   \n",
       "702  703   1   0   0   1   1   0   1   0   1  ...       m     South Asian   \n",
       "703  704   1   0   1   1   1   0   1   1   1  ...       f  White-European   \n",
       "\n",
       "    jundice austim contry_of_res used_app_before result     age_desc  \\\n",
       "698      no     no     Australia              no     10  18 and more   \n",
       "699      no     no        Russia              no      7  18 and more   \n",
       "700      no     no        Mexico              no      3  18 and more   \n",
       "702      no     no      Pakistan              no      6  18 and more   \n",
       "703      no     no        Cyprus              no      8  18 and more   \n",
       "\n",
       "     relation Class  \n",
       "698      Self   YES  \n",
       "699      Self   YES  \n",
       "700    Parent    NO  \n",
       "702      Self    NO  \n",
       "703      Self   YES  \n",
       "\n",
       "[5 rows x 22 columns]"
      ]
     },
     "execution_count": 15,
     "metadata": {},
     "output_type": "execute_result"
    }
   ],
   "source": [
    "asd_data.tail()"
   ]
  },
  {
   "cell_type": "code",
   "execution_count": 16,
   "id": "6c51daa3",
   "metadata": {},
   "outputs": [
    {
     "data": {
      "text/plain": [
       "array(['NO', 'YES'], dtype=object)"
      ]
     },
     "execution_count": 16,
     "metadata": {},
     "output_type": "execute_result"
    }
   ],
   "source": [
    "asd_data.Class .unique()"
   ]
  },
  {
   "cell_type": "code",
   "execution_count": 17,
   "id": "29e9d96a",
   "metadata": {},
   "outputs": [],
   "source": [
    "asd_data['Class'].replace('NO', 0, inplace=True)\n",
    "asd_data['Class'].replace('YES', 1, inplace=True)"
   ]
  },
  {
   "cell_type": "code",
   "execution_count": 18,
   "id": "bc032670",
   "metadata": {},
   "outputs": [
    {
     "data": {
      "text/html": [
       "<div>\n",
       "<style scoped>\n",
       "    .dataframe tbody tr th:only-of-type {\n",
       "        vertical-align: middle;\n",
       "    }\n",
       "\n",
       "    .dataframe tbody tr th {\n",
       "        vertical-align: top;\n",
       "    }\n",
       "\n",
       "    .dataframe thead th {\n",
       "        text-align: right;\n",
       "    }\n",
       "</style>\n",
       "<table border=\"1\" class=\"dataframe\">\n",
       "  <thead>\n",
       "    <tr style=\"text-align: right;\">\n",
       "      <th></th>\n",
       "      <th>id</th>\n",
       "      <th>A1</th>\n",
       "      <th>A2</th>\n",
       "      <th>A3</th>\n",
       "      <th>A4</th>\n",
       "      <th>A5</th>\n",
       "      <th>A6</th>\n",
       "      <th>A7</th>\n",
       "      <th>A8</th>\n",
       "      <th>A9</th>\n",
       "      <th>...</th>\n",
       "      <th>gender</th>\n",
       "      <th>ethnicity</th>\n",
       "      <th>jundice</th>\n",
       "      <th>austim</th>\n",
       "      <th>contry_of_res</th>\n",
       "      <th>used_app_before</th>\n",
       "      <th>result</th>\n",
       "      <th>age_desc</th>\n",
       "      <th>relation</th>\n",
       "      <th>Class</th>\n",
       "    </tr>\n",
       "  </thead>\n",
       "  <tbody>\n",
       "    <tr>\n",
       "      <th>0</th>\n",
       "      <td>1</td>\n",
       "      <td>1</td>\n",
       "      <td>1</td>\n",
       "      <td>1</td>\n",
       "      <td>1</td>\n",
       "      <td>0</td>\n",
       "      <td>0</td>\n",
       "      <td>1</td>\n",
       "      <td>1</td>\n",
       "      <td>0</td>\n",
       "      <td>...</td>\n",
       "      <td>f</td>\n",
       "      <td>White-European</td>\n",
       "      <td>no</td>\n",
       "      <td>no</td>\n",
       "      <td>United States</td>\n",
       "      <td>no</td>\n",
       "      <td>6</td>\n",
       "      <td>18 and more</td>\n",
       "      <td>Self</td>\n",
       "      <td>0</td>\n",
       "    </tr>\n",
       "    <tr>\n",
       "      <th>1</th>\n",
       "      <td>2</td>\n",
       "      <td>1</td>\n",
       "      <td>1</td>\n",
       "      <td>0</td>\n",
       "      <td>1</td>\n",
       "      <td>0</td>\n",
       "      <td>0</td>\n",
       "      <td>0</td>\n",
       "      <td>1</td>\n",
       "      <td>0</td>\n",
       "      <td>...</td>\n",
       "      <td>m</td>\n",
       "      <td>Latino</td>\n",
       "      <td>no</td>\n",
       "      <td>yes</td>\n",
       "      <td>Brazil</td>\n",
       "      <td>no</td>\n",
       "      <td>5</td>\n",
       "      <td>18 and more</td>\n",
       "      <td>Self</td>\n",
       "      <td>0</td>\n",
       "    </tr>\n",
       "    <tr>\n",
       "      <th>2</th>\n",
       "      <td>3</td>\n",
       "      <td>1</td>\n",
       "      <td>1</td>\n",
       "      <td>0</td>\n",
       "      <td>1</td>\n",
       "      <td>1</td>\n",
       "      <td>0</td>\n",
       "      <td>1</td>\n",
       "      <td>1</td>\n",
       "      <td>1</td>\n",
       "      <td>...</td>\n",
       "      <td>m</td>\n",
       "      <td>Latino</td>\n",
       "      <td>yes</td>\n",
       "      <td>yes</td>\n",
       "      <td>Spain</td>\n",
       "      <td>no</td>\n",
       "      <td>8</td>\n",
       "      <td>18 and more</td>\n",
       "      <td>Parent</td>\n",
       "      <td>1</td>\n",
       "    </tr>\n",
       "    <tr>\n",
       "      <th>3</th>\n",
       "      <td>4</td>\n",
       "      <td>1</td>\n",
       "      <td>1</td>\n",
       "      <td>0</td>\n",
       "      <td>1</td>\n",
       "      <td>0</td>\n",
       "      <td>0</td>\n",
       "      <td>1</td>\n",
       "      <td>1</td>\n",
       "      <td>0</td>\n",
       "      <td>...</td>\n",
       "      <td>f</td>\n",
       "      <td>White-European</td>\n",
       "      <td>no</td>\n",
       "      <td>yes</td>\n",
       "      <td>United States</td>\n",
       "      <td>no</td>\n",
       "      <td>6</td>\n",
       "      <td>18 and more</td>\n",
       "      <td>Self</td>\n",
       "      <td>0</td>\n",
       "    </tr>\n",
       "    <tr>\n",
       "      <th>5</th>\n",
       "      <td>6</td>\n",
       "      <td>1</td>\n",
       "      <td>1</td>\n",
       "      <td>1</td>\n",
       "      <td>1</td>\n",
       "      <td>1</td>\n",
       "      <td>0</td>\n",
       "      <td>1</td>\n",
       "      <td>1</td>\n",
       "      <td>1</td>\n",
       "      <td>...</td>\n",
       "      <td>m</td>\n",
       "      <td>Others</td>\n",
       "      <td>yes</td>\n",
       "      <td>no</td>\n",
       "      <td>United States</td>\n",
       "      <td>no</td>\n",
       "      <td>9</td>\n",
       "      <td>18 and more</td>\n",
       "      <td>Self</td>\n",
       "      <td>1</td>\n",
       "    </tr>\n",
       "  </tbody>\n",
       "</table>\n",
       "<p>5 rows × 22 columns</p>\n",
       "</div>"
      ],
      "text/plain": [
       "   id  A1  A2  A3  A4  A5  A6  A7  A8  A9  ...  gender       ethnicity  \\\n",
       "0   1   1   1   1   1   0   0   1   1   0  ...       f  White-European   \n",
       "1   2   1   1   0   1   0   0   0   1   0  ...       m          Latino   \n",
       "2   3   1   1   0   1   1   0   1   1   1  ...       m          Latino   \n",
       "3   4   1   1   0   1   0   0   1   1   0  ...       f  White-European   \n",
       "5   6   1   1   1   1   1   0   1   1   1  ...       m          Others   \n",
       "\n",
       "  jundice austim  contry_of_res used_app_before result     age_desc  relation  \\\n",
       "0      no     no  United States              no      6  18 and more      Self   \n",
       "1      no    yes         Brazil              no      5  18 and more      Self   \n",
       "2     yes    yes          Spain              no      8  18 and more    Parent   \n",
       "3      no    yes  United States              no      6  18 and more      Self   \n",
       "5     yes     no  United States              no      9  18 and more      Self   \n",
       "\n",
       "  Class  \n",
       "0     0  \n",
       "1     0  \n",
       "2     1  \n",
       "3     0  \n",
       "5     1  \n",
       "\n",
       "[5 rows x 22 columns]"
      ]
     },
     "execution_count": 18,
     "metadata": {},
     "output_type": "execute_result"
    }
   ],
   "source": [
    "asd_data.head()"
   ]
  },
  {
   "cell_type": "code",
   "execution_count": 19,
   "id": "75d4bc72",
   "metadata": {},
   "outputs": [
    {
     "data": {
      "text/plain": [
       "array(['Self', 'Parent', 'Health care professional', 'Relative', 'Others'],\n",
       "      dtype=object)"
      ]
     },
     "execution_count": 19,
     "metadata": {},
     "output_type": "execute_result"
    }
   ],
   "source": [
    "asd_data.relation.unique()"
   ]
  },
  {
   "cell_type": "code",
   "execution_count": 20,
   "id": "346a37a2",
   "metadata": {},
   "outputs": [],
   "source": [
    "\n",
    "asd_data['relation'].replace('Health care professional', 0, inplace=True)\n",
    "asd_data['relation'].replace('Others', 1, inplace=True)\n",
    "asd_data['relation'].replace('Parent', 2, inplace=True)\n",
    "asd_data['relation'].replace('Relative', 3, inplace=True)\n",
    "asd_data['relation'].replace('Self', 4, inplace=True)"
   ]
  },
  {
   "cell_type": "code",
   "execution_count": 21,
   "id": "039145db",
   "metadata": {},
   "outputs": [
    {
     "data": {
      "text/plain": [
       "array(['18 and more', 'Less than 18'], dtype=object)"
      ]
     },
     "execution_count": 21,
     "metadata": {},
     "output_type": "execute_result"
    }
   ],
   "source": [
    "asd_data.age_desc.unique()"
   ]
  },
  {
   "cell_type": "code",
   "execution_count": 22,
   "id": "67478b8e",
   "metadata": {},
   "outputs": [],
   "source": [
    "asd_data['age_desc'].replace('18 and more', 1, inplace=True)\n",
    "asd_data['age_desc'].replace('Less than 18', 0, inplace=True)"
   ]
  },
  {
   "cell_type": "code",
   "execution_count": 23,
   "id": "6679f4fd",
   "metadata": {},
   "outputs": [
    {
     "data": {
      "text/plain": [
       "array(['no', 'yes'], dtype=object)"
      ]
     },
     "execution_count": 23,
     "metadata": {},
     "output_type": "execute_result"
    }
   ],
   "source": [
    "asd_data.used_app_before.unique()"
   ]
  },
  {
   "cell_type": "code",
   "execution_count": 24,
   "id": "70306f4b",
   "metadata": {},
   "outputs": [],
   "source": [
    "asd_data['used_app_before'].replace('no', 0, inplace=True)\n",
    "asd_data['used_app_before'].replace('yes', 1, inplace=True)"
   ]
  },
  {
   "cell_type": "code",
   "execution_count": 25,
   "id": "e193b4ad",
   "metadata": {},
   "outputs": [
    {
     "data": {
      "text/plain": [
       "array(['United States', 'Brazil', 'Spain', 'New Zealand', 'Bahamas',\n",
       "       'Burundi', 'Jordan', 'Ireland', 'United Arab Emirates',\n",
       "       'Afghanistan', 'United Kingdom', 'South Africa', 'Italy',\n",
       "       'Pakistan', 'Egypt', 'Bangladesh', 'Chile', 'France', 'China',\n",
       "       'Australia', 'Canada', 'Saudi Arabia', 'Netherlands', 'Romania',\n",
       "       'Sweden', 'Tonga', 'Oman', 'India', 'Philippines', 'Sri Lanka',\n",
       "       'Sierra Leone', 'Ethiopia', 'Viet Nam', 'Iran', 'Costa Rica',\n",
       "       'Germany', 'Mexico', 'Armenia', 'Iceland', 'Nicaragua', 'Austria',\n",
       "       'Russia', 'AmericanSamoa', 'Uruguay', 'Ukraine', 'Serbia',\n",
       "       'Portugal', 'Malaysia', 'Ecuador', 'Niger', 'Belgium', 'Bolivia',\n",
       "       'Aruba', 'Finland', 'Turkey', 'Nepal', 'Indonesia', 'Angola',\n",
       "       'Czech Republic', 'Cyprus'], dtype=object)"
      ]
     },
     "execution_count": 25,
     "metadata": {},
     "output_type": "execute_result"
    }
   ],
   "source": [
    "asd_data.contry_of_res.unique()"
   ]
  },
  {
   "cell_type": "code",
   "execution_count": 26,
   "id": "81d6d728",
   "metadata": {},
   "outputs": [],
   "source": [
    "asd_data['contry_of_res'].replace('United States', 0, inplace=True)\n",
    "asd_data['contry_of_res'].replace('Brazil', 1, inplace=True)\n",
    "asd_data['contry_of_res'].replace('Spain', 2, inplace=True)\n",
    "asd_data['contry_of_res'].replace('New Zealand', 3, inplace=True)\n",
    "asd_data['contry_of_res'].replace('Bahamas', 4, inplace=True)\n",
    "asd_data['contry_of_res'].replace('Burundi', 5, inplace=True)\n",
    "asd_data['contry_of_res'].replace('Jordan', 6, inplace=True)\n",
    "asd_data['contry_of_res'].replace('Ireland', 7, inplace=True)\n",
    "asd_data['contry_of_res'].replace('United Arab Emirates', 8, inplace=True)\n",
    "asd_data['contry_of_res'].replace('Afghanistan', 9, inplace=True)\n",
    "asd_data['contry_of_res'].replace('United Kingdom', 10, inplace=True)\n",
    "asd_data['contry_of_res'].replace('South Africa', 11, inplace=True)\n",
    "asd_data['contry_of_res'].replace('Italy', 12, inplace=True)\n",
    "asd_data['contry_of_res'].replace('Pakistan', 13, inplace=True)\n",
    "asd_data['contry_of_res'].replace('Egypt', 14, inplace=True)\n",
    "asd_data['contry_of_res'].replace('Bangladesh', 15, inplace=True)\n",
    "asd_data['contry_of_res'].replace('Chile', 16, inplace=True)\n",
    "asd_data['contry_of_res'].replace('France', 17, inplace=True)\n",
    "asd_data['contry_of_res'].replace('China', 18, inplace=True)\n",
    "asd_data['contry_of_res'].replace('Australia', 19, inplace=True)\n",
    "asd_data['contry_of_res'].replace('Canada', 20, inplace=True)\n",
    "asd_data['contry_of_res'].replace('Saudi Arabia', 21, inplace=True)\n",
    "asd_data['contry_of_res'].replace('Netherlands', 22, inplace=True)\n",
    "asd_data['contry_of_res'].replace('Romania', 23, inplace=True)\n",
    "asd_data['contry_of_res'].replace('Sweden', 24, inplace=True)\n",
    "asd_data['contry_of_res'].replace('Tonga', 25, inplace=True)\n",
    "asd_data['contry_of_res'].replace('Oman', 26, inplace=True)\n",
    "asd_data['contry_of_res'].replace('India', 27, inplace=True)\n",
    "asd_data['contry_of_res'].replace('Philippines', 28, inplace=True)\n",
    "asd_data['contry_of_res'].replace('Sri Lanka', 29, inplace=True)\n",
    "asd_data['contry_of_res'].replace('Sierra Leone', 30, inplace=True)\n",
    "asd_data['contry_of_res'].replace('Ethiopia', 31, inplace=True)\n",
    "asd_data['contry_of_res'].replace('Viet Nam', 32, inplace=True)\n",
    "asd_data['contry_of_res'].replace('Iran', 33, inplace=True)\n",
    "asd_data['contry_of_res'].replace('Costa Rica', 34, inplace=True)\n",
    "asd_data['contry_of_res'].replace('Germany', 35, inplace=True)\n",
    "asd_data['contry_of_res'].replace('Mexico', 36, inplace=True)\n",
    "asd_data['contry_of_res'].replace('Armenia', 37, inplace=True)\n",
    "asd_data['contry_of_res'].replace('Iceland', 38, inplace=True)\n",
    "asd_data['contry_of_res'].replace('Nicaragua', 39, inplace=True)\n",
    "asd_data['contry_of_res'].replace('Austria', 40, inplace=True)\n",
    "asd_data['contry_of_res'].replace('Russia', 41, inplace=True)\n",
    "asd_data['contry_of_res'].replace('AmericanSamoa', 42, inplace=True)\n",
    "asd_data['contry_of_res'].replace('Uruguay', 43, inplace=True)\n",
    "asd_data['contry_of_res'].replace('Ukraine', 44, inplace=True)\n",
    "asd_data['contry_of_res'].replace('Serbia', 45, inplace=True)\n",
    "asd_data['contry_of_res'].replace('Portugal', 46, inplace=True)\n",
    "asd_data['contry_of_res'].replace('Malaysia', 47, inplace=True)\n",
    "asd_data['contry_of_res'].replace('Ecuador', 48, inplace=True)\n",
    "asd_data['contry_of_res'].replace('Niger', 49, inplace=True)\n",
    "asd_data['contry_of_res'].replace('Belgium', 50, inplace=True)\n",
    "asd_data['contry_of_res'].replace('Bolivia', 51, inplace=True)\n",
    "asd_data['contry_of_res'].replace('Aruba', 52, inplace=True)\n",
    "asd_data['contry_of_res'].replace('Finland', 53, inplace=True)\n",
    "asd_data['contry_of_res'].replace('Turkey', 54, inplace=True)\n",
    "asd_data['contry_of_res'].replace('Nepal', 55, inplace=True)\n",
    "asd_data['contry_of_res'].replace('Indonesia', 56, inplace=True)\n",
    "asd_data['contry_of_res'].replace('Angola', 57, inplace=True)\n",
    "asd_data['contry_of_res'].replace('Czech Republic', 58, inplace=True)\n",
    "asd_data['contry_of_res'].replace('Cyprus', 59, inplace=True)\n"
   ]
  },
  {
   "cell_type": "code",
   "execution_count": 27,
   "id": "326109f6",
   "metadata": {},
   "outputs": [
    {
     "data": {
      "text/plain": [
       "array(['no', 'yes'], dtype=object)"
      ]
     },
     "execution_count": 27,
     "metadata": {},
     "output_type": "execute_result"
    }
   ],
   "source": [
    "asd_data.austim.unique()"
   ]
  },
  {
   "cell_type": "code",
   "execution_count": 28,
   "id": "9fa510c2",
   "metadata": {},
   "outputs": [],
   "source": [
    "asd_data['austim'].replace('no', 0, inplace=True)\n",
    "asd_data['austim'].replace('yes', 1, inplace=True)"
   ]
  },
  {
   "cell_type": "code",
   "execution_count": 29,
   "id": "67651dbe",
   "metadata": {},
   "outputs": [
    {
     "data": {
      "text/plain": [
       "array(['no', 'yes'], dtype=object)"
      ]
     },
     "execution_count": 29,
     "metadata": {},
     "output_type": "execute_result"
    }
   ],
   "source": [
    "asd_data.jundice.unique()"
   ]
  },
  {
   "cell_type": "code",
   "execution_count": 30,
   "id": "a6663e4c",
   "metadata": {},
   "outputs": [],
   "source": [
    "asd_data['jundice'].replace('no', 0, inplace=True)\n",
    "asd_data['jundice'].replace('yes', 1, inplace=True)"
   ]
  },
  {
   "cell_type": "code",
   "execution_count": 31,
   "id": "e6f27532",
   "metadata": {},
   "outputs": [
    {
     "data": {
      "text/plain": [
       "array(['White-European', 'Latino', 'Others', 'Black', 'Asian',\n",
       "       'Middle Eastern ', 'Pasifika', 'South Asian', 'Hispanic',\n",
       "       'Turkish', 'others'], dtype=object)"
      ]
     },
     "execution_count": 31,
     "metadata": {},
     "output_type": "execute_result"
    }
   ],
   "source": [
    "asd_data.ethnicity.unique()"
   ]
  },
  {
   "cell_type": "code",
   "execution_count": 32,
   "id": "2fbc5b6b",
   "metadata": {},
   "outputs": [],
   "source": [
    "asd_data['ethnicity'].replace('White-European', 0, inplace=True)\n",
    "asd_data['ethnicity'].replace('Latino', 1, inplace=True)\n",
    "asd_data['ethnicity'].replace('Others', 2, inplace=True)\n",
    "asd_data['ethnicity'].replace('Black', 3, inplace=True)\n",
    "asd_data['ethnicity'].replace('Asian', 4, inplace=True)\n",
    "asd_data['ethnicity'].replace('Middle Eastern ', 5, inplace=True)\n",
    "asd_data['ethnicity'].replace('Pasifika', 6, inplace=True)\n",
    "asd_data['ethnicity'].replace('South Asian', 7, inplace=True)\n",
    "asd_data['ethnicity'].replace('Hispanic', 8, inplace=True)\n",
    "asd_data['ethnicity'].replace('Turkish', 9, inplace=True)\n",
    "asd_data['ethnicity'].replace('others', 2, inplace=True)"
   ]
  },
  {
   "cell_type": "code",
   "execution_count": 33,
   "id": "9d90a32c",
   "metadata": {},
   "outputs": [
    {
     "data": {
      "text/plain": [
       "array(['f', 'm'], dtype=object)"
      ]
     },
     "execution_count": 33,
     "metadata": {},
     "output_type": "execute_result"
    }
   ],
   "source": [
    "asd_data.gender.unique()"
   ]
  },
  {
   "cell_type": "code",
   "execution_count": 34,
   "id": "210d06fb",
   "metadata": {},
   "outputs": [],
   "source": [
    "asd_data['gender'].replace('f', 0, inplace=True)\n",
    "asd_data['gender'].replace('m', 1, inplace=True)"
   ]
  },
  {
   "cell_type": "code",
   "execution_count": 35,
   "id": "bf2b27be",
   "metadata": {},
   "outputs": [
    {
     "data": {
      "text/html": [
       "<div>\n",
       "<style scoped>\n",
       "    .dataframe tbody tr th:only-of-type {\n",
       "        vertical-align: middle;\n",
       "    }\n",
       "\n",
       "    .dataframe tbody tr th {\n",
       "        vertical-align: top;\n",
       "    }\n",
       "\n",
       "    .dataframe thead th {\n",
       "        text-align: right;\n",
       "    }\n",
       "</style>\n",
       "<table border=\"1\" class=\"dataframe\">\n",
       "  <thead>\n",
       "    <tr style=\"text-align: right;\">\n",
       "      <th></th>\n",
       "      <th>id</th>\n",
       "      <th>A1</th>\n",
       "      <th>A2</th>\n",
       "      <th>A3</th>\n",
       "      <th>A4</th>\n",
       "      <th>A5</th>\n",
       "      <th>A6</th>\n",
       "      <th>A7</th>\n",
       "      <th>A8</th>\n",
       "      <th>A9</th>\n",
       "      <th>...</th>\n",
       "      <th>gender</th>\n",
       "      <th>ethnicity</th>\n",
       "      <th>jundice</th>\n",
       "      <th>austim</th>\n",
       "      <th>contry_of_res</th>\n",
       "      <th>used_app_before</th>\n",
       "      <th>result</th>\n",
       "      <th>age_desc</th>\n",
       "      <th>relation</th>\n",
       "      <th>Class</th>\n",
       "    </tr>\n",
       "  </thead>\n",
       "  <tbody>\n",
       "    <tr>\n",
       "      <th>0</th>\n",
       "      <td>1</td>\n",
       "      <td>1</td>\n",
       "      <td>1</td>\n",
       "      <td>1</td>\n",
       "      <td>1</td>\n",
       "      <td>0</td>\n",
       "      <td>0</td>\n",
       "      <td>1</td>\n",
       "      <td>1</td>\n",
       "      <td>0</td>\n",
       "      <td>...</td>\n",
       "      <td>0</td>\n",
       "      <td>0</td>\n",
       "      <td>0</td>\n",
       "      <td>0</td>\n",
       "      <td>0</td>\n",
       "      <td>0</td>\n",
       "      <td>6</td>\n",
       "      <td>1</td>\n",
       "      <td>4</td>\n",
       "      <td>0</td>\n",
       "    </tr>\n",
       "    <tr>\n",
       "      <th>1</th>\n",
       "      <td>2</td>\n",
       "      <td>1</td>\n",
       "      <td>1</td>\n",
       "      <td>0</td>\n",
       "      <td>1</td>\n",
       "      <td>0</td>\n",
       "      <td>0</td>\n",
       "      <td>0</td>\n",
       "      <td>1</td>\n",
       "      <td>0</td>\n",
       "      <td>...</td>\n",
       "      <td>1</td>\n",
       "      <td>1</td>\n",
       "      <td>0</td>\n",
       "      <td>1</td>\n",
       "      <td>1</td>\n",
       "      <td>0</td>\n",
       "      <td>5</td>\n",
       "      <td>1</td>\n",
       "      <td>4</td>\n",
       "      <td>0</td>\n",
       "    </tr>\n",
       "    <tr>\n",
       "      <th>2</th>\n",
       "      <td>3</td>\n",
       "      <td>1</td>\n",
       "      <td>1</td>\n",
       "      <td>0</td>\n",
       "      <td>1</td>\n",
       "      <td>1</td>\n",
       "      <td>0</td>\n",
       "      <td>1</td>\n",
       "      <td>1</td>\n",
       "      <td>1</td>\n",
       "      <td>...</td>\n",
       "      <td>1</td>\n",
       "      <td>1</td>\n",
       "      <td>1</td>\n",
       "      <td>1</td>\n",
       "      <td>2</td>\n",
       "      <td>0</td>\n",
       "      <td>8</td>\n",
       "      <td>1</td>\n",
       "      <td>2</td>\n",
       "      <td>1</td>\n",
       "    </tr>\n",
       "    <tr>\n",
       "      <th>3</th>\n",
       "      <td>4</td>\n",
       "      <td>1</td>\n",
       "      <td>1</td>\n",
       "      <td>0</td>\n",
       "      <td>1</td>\n",
       "      <td>0</td>\n",
       "      <td>0</td>\n",
       "      <td>1</td>\n",
       "      <td>1</td>\n",
       "      <td>0</td>\n",
       "      <td>...</td>\n",
       "      <td>0</td>\n",
       "      <td>0</td>\n",
       "      <td>0</td>\n",
       "      <td>1</td>\n",
       "      <td>0</td>\n",
       "      <td>0</td>\n",
       "      <td>6</td>\n",
       "      <td>1</td>\n",
       "      <td>4</td>\n",
       "      <td>0</td>\n",
       "    </tr>\n",
       "    <tr>\n",
       "      <th>5</th>\n",
       "      <td>6</td>\n",
       "      <td>1</td>\n",
       "      <td>1</td>\n",
       "      <td>1</td>\n",
       "      <td>1</td>\n",
       "      <td>1</td>\n",
       "      <td>0</td>\n",
       "      <td>1</td>\n",
       "      <td>1</td>\n",
       "      <td>1</td>\n",
       "      <td>...</td>\n",
       "      <td>1</td>\n",
       "      <td>2</td>\n",
       "      <td>1</td>\n",
       "      <td>0</td>\n",
       "      <td>0</td>\n",
       "      <td>0</td>\n",
       "      <td>9</td>\n",
       "      <td>1</td>\n",
       "      <td>4</td>\n",
       "      <td>1</td>\n",
       "    </tr>\n",
       "  </tbody>\n",
       "</table>\n",
       "<p>5 rows × 22 columns</p>\n",
       "</div>"
      ],
      "text/plain": [
       "   id  A1  A2  A3  A4  A5  A6  A7  A8  A9  ...  gender  ethnicity  jundice  \\\n",
       "0   1   1   1   1   1   0   0   1   1   0  ...       0          0        0   \n",
       "1   2   1   1   0   1   0   0   0   1   0  ...       1          1        0   \n",
       "2   3   1   1   0   1   1   0   1   1   1  ...       1          1        1   \n",
       "3   4   1   1   0   1   0   0   1   1   0  ...       0          0        0   \n",
       "5   6   1   1   1   1   1   0   1   1   1  ...       1          2        1   \n",
       "\n",
       "   austim  contry_of_res  used_app_before  result  age_desc  relation  Class  \n",
       "0       0              0                0       6         1         4      0  \n",
       "1       1              1                0       5         1         4      0  \n",
       "2       1              2                0       8         1         2      1  \n",
       "3       1              0                0       6         1         4      0  \n",
       "5       0              0                0       9         1         4      1  \n",
       "\n",
       "[5 rows x 22 columns]"
      ]
     },
     "execution_count": 35,
     "metadata": {},
     "output_type": "execute_result"
    }
   ],
   "source": [
    "asd_data.head()"
   ]
  },
  {
   "cell_type": "code",
   "execution_count": 36,
   "id": "9a166884",
   "metadata": {},
   "outputs": [],
   "source": [
    "# Split the data into features and target label, converting dataframe into arrays to wrk with scikit_liearn.\n",
    "asd_class = asd_data['Class']\n",
    "features_raw = asd_data[['age', 'gender', 'ethnicity', 'jundice', 'austim', 'contry_of_res', 'result',\n",
    "                      'relation','A1','A2','A3','A4','A5','A6','A7','A8',\n",
    "                      'A9','A10']]"
   ]
  },
  {
   "cell_type": "code",
   "execution_count": 37,
   "id": "3e5e3213",
   "metadata": {},
   "outputs": [
    {
     "data": {
      "text/html": [
       "<div>\n",
       "<style scoped>\n",
       "    .dataframe tbody tr th:only-of-type {\n",
       "        vertical-align: middle;\n",
       "    }\n",
       "\n",
       "    .dataframe tbody tr th {\n",
       "        vertical-align: top;\n",
       "    }\n",
       "\n",
       "    .dataframe thead th {\n",
       "        text-align: right;\n",
       "    }\n",
       "</style>\n",
       "<table border=\"1\" class=\"dataframe\">\n",
       "  <thead>\n",
       "    <tr style=\"text-align: right;\">\n",
       "      <th></th>\n",
       "      <th>age</th>\n",
       "      <th>gender</th>\n",
       "      <th>ethnicity</th>\n",
       "      <th>jundice</th>\n",
       "      <th>austim</th>\n",
       "      <th>contry_of_res</th>\n",
       "      <th>result</th>\n",
       "      <th>relation</th>\n",
       "      <th>A1</th>\n",
       "      <th>A2</th>\n",
       "      <th>A3</th>\n",
       "      <th>A4</th>\n",
       "      <th>A5</th>\n",
       "      <th>A6</th>\n",
       "      <th>A7</th>\n",
       "      <th>A8</th>\n",
       "      <th>A9</th>\n",
       "      <th>A10</th>\n",
       "    </tr>\n",
       "  </thead>\n",
       "  <tbody>\n",
       "    <tr>\n",
       "      <th>0</th>\n",
       "      <td>0.191489</td>\n",
       "      <td>0</td>\n",
       "      <td>0.000000</td>\n",
       "      <td>0</td>\n",
       "      <td>0</td>\n",
       "      <td>0.000000</td>\n",
       "      <td>0.6</td>\n",
       "      <td>4</td>\n",
       "      <td>1</td>\n",
       "      <td>1</td>\n",
       "      <td>1</td>\n",
       "      <td>1</td>\n",
       "      <td>0</td>\n",
       "      <td>0</td>\n",
       "      <td>1</td>\n",
       "      <td>1</td>\n",
       "      <td>0</td>\n",
       "      <td>0</td>\n",
       "    </tr>\n",
       "    <tr>\n",
       "      <th>1</th>\n",
       "      <td>0.148936</td>\n",
       "      <td>1</td>\n",
       "      <td>0.111111</td>\n",
       "      <td>0</td>\n",
       "      <td>1</td>\n",
       "      <td>0.016949</td>\n",
       "      <td>0.5</td>\n",
       "      <td>4</td>\n",
       "      <td>1</td>\n",
       "      <td>1</td>\n",
       "      <td>0</td>\n",
       "      <td>1</td>\n",
       "      <td>0</td>\n",
       "      <td>0</td>\n",
       "      <td>0</td>\n",
       "      <td>1</td>\n",
       "      <td>0</td>\n",
       "      <td>1</td>\n",
       "    </tr>\n",
       "    <tr>\n",
       "      <th>2</th>\n",
       "      <td>0.212766</td>\n",
       "      <td>1</td>\n",
       "      <td>0.111111</td>\n",
       "      <td>1</td>\n",
       "      <td>1</td>\n",
       "      <td>0.033898</td>\n",
       "      <td>0.8</td>\n",
       "      <td>2</td>\n",
       "      <td>1</td>\n",
       "      <td>1</td>\n",
       "      <td>0</td>\n",
       "      <td>1</td>\n",
       "      <td>1</td>\n",
       "      <td>0</td>\n",
       "      <td>1</td>\n",
       "      <td>1</td>\n",
       "      <td>1</td>\n",
       "      <td>1</td>\n",
       "    </tr>\n",
       "    <tr>\n",
       "      <th>3</th>\n",
       "      <td>0.382979</td>\n",
       "      <td>0</td>\n",
       "      <td>0.000000</td>\n",
       "      <td>0</td>\n",
       "      <td>1</td>\n",
       "      <td>0.000000</td>\n",
       "      <td>0.6</td>\n",
       "      <td>4</td>\n",
       "      <td>1</td>\n",
       "      <td>1</td>\n",
       "      <td>0</td>\n",
       "      <td>1</td>\n",
       "      <td>0</td>\n",
       "      <td>0</td>\n",
       "      <td>1</td>\n",
       "      <td>1</td>\n",
       "      <td>0</td>\n",
       "      <td>1</td>\n",
       "    </tr>\n",
       "    <tr>\n",
       "      <th>5</th>\n",
       "      <td>0.404255</td>\n",
       "      <td>1</td>\n",
       "      <td>0.222222</td>\n",
       "      <td>1</td>\n",
       "      <td>0</td>\n",
       "      <td>0.000000</td>\n",
       "      <td>0.9</td>\n",
       "      <td>4</td>\n",
       "      <td>1</td>\n",
       "      <td>1</td>\n",
       "      <td>1</td>\n",
       "      <td>1</td>\n",
       "      <td>1</td>\n",
       "      <td>0</td>\n",
       "      <td>1</td>\n",
       "      <td>1</td>\n",
       "      <td>1</td>\n",
       "      <td>1</td>\n",
       "    </tr>\n",
       "  </tbody>\n",
       "</table>\n",
       "</div>"
      ],
      "text/plain": [
       "        age  gender  ethnicity  jundice  austim  contry_of_res  result  \\\n",
       "0  0.191489       0   0.000000        0       0       0.000000     0.6   \n",
       "1  0.148936       1   0.111111        0       1       0.016949     0.5   \n",
       "2  0.212766       1   0.111111        1       1       0.033898     0.8   \n",
       "3  0.382979       0   0.000000        0       1       0.000000     0.6   \n",
       "5  0.404255       1   0.222222        1       0       0.000000     0.9   \n",
       "\n",
       "   relation  A1  A2  A3  A4  A5  A6  A7  A8  A9  A10  \n",
       "0         4   1   1   1   1   0   0   1   1   0    0  \n",
       "1         4   1   1   0   1   0   0   0   1   0    1  \n",
       "2         2   1   1   0   1   1   0   1   1   1    1  \n",
       "3         4   1   1   0   1   0   0   1   1   0    1  \n",
       "5         4   1   1   1   1   1   0   1   1   1    1  "
      ]
     },
     "metadata": {},
     "output_type": "display_data"
    }
   ],
   "source": [
    "from sklearn.preprocessing import MinMaxScaler\n",
    "\n",
    "scaler = MinMaxScaler()\n",
    "numerical = ['age', 'result', 'contry_of_res', 'ethnicity' ]\n",
    "\n",
    "features_final = pd.DataFrame(data = features_raw)\n",
    "features_final[numerical] = scaler.fit_transform(features_raw[numerical])\n",
    "features_final\n",
    "# Show an example of a record with scaling applied\n",
    "display(features_final.head(n = 5))"
   ]
  },
  {
   "cell_type": "code",
   "execution_count": 38,
   "id": "6bbc51f6",
   "metadata": {},
   "outputs": [
    {
     "data": {
      "text/plain": [
       "age              0.0\n",
       "gender           0.0\n",
       "ethnicity        0.0\n",
       "jundice          0.0\n",
       "austim           0.0\n",
       "contry_of_res    0.0\n",
       "result           0.0\n",
       "relation         0.0\n",
       "A1               0.0\n",
       "A2               0.0\n",
       "A3               0.0\n",
       "A4               0.0\n",
       "A5               0.0\n",
       "A6               0.0\n",
       "A7               0.0\n",
       "A8               0.0\n",
       "A9               0.0\n",
       "A10              0.0\n",
       "dtype: float64"
      ]
     },
     "execution_count": 38,
     "metadata": {},
     "output_type": "execute_result"
    }
   ],
   "source": [
    "features_final.isnull().mean()"
   ]
  },
  {
   "cell_type": "markdown",
   "id": "9887e839",
   "metadata": {},
   "source": [
    "**Shuffle and Split Data**\n",
    "\n",
    "Now all categorical variables have been converted into numerical features, and all numerical features have been normalized. As always, We will now split the data (both features and their labels) into training and test sets. 80% of the data will be used for training and 20% for testing."
   ]
  },
  {
   "cell_type": "code",
   "execution_count": 39,
   "id": "ff8af1bf",
   "metadata": {},
   "outputs": [
    {
     "name": "stdout",
     "output_type": "stream",
     "text": [
      "Training set has 487 samples.\n",
      "Testing set has 122 samples.\n"
     ]
    }
   ],
   "source": [
    "from sklearn.model_selection import train_test_split\n",
    "\n",
    "\n",
    "X_train, X_test, y_train, y_test = train_test_split(features_final, asd_class, train_size=0.80, random_state=1)\n",
    "\n",
    "\n",
    "# Show the results of the split\n",
    "print (\"Training set has {} samples.\".format(X_train.shape[0]))\n",
    "print (\"Testing set has {} samples.\".format(X_test.shape[0]))\n",
    "#asd_data"
   ]
  },
  {
   "cell_type": "markdown",
   "id": "61700b7f",
   "metadata": {},
   "source": [
    "# Step 3: Models\n",
    "**Supervised Learning Models**\n",
    "We have applied the following supervised learning models in this project which are currently available in scikit-learn.\n",
    "\n",
    "(1) Decision Trees\n",
    "\n",
    "(2) Random Forest\n",
    "\n",
    "(3) Support Vector Machines (SVM)\n",
    "\n",
    "(4) K-Nearest Neighbors (KNeighbors)\n",
    "\n",
    "(5) Gaussian Naive Bayes (GaussianNB)\n",
    "\n",
    "(6) Logistic Regression (LR)\n",
    "\n",
    "(7) Linear Discriminant Analysis (LDA)\n",
    "\n",
    "(8) Quadratic Discriminant Analysis (QDA)\n",
    " \n"
   ]
  },
  {
   "cell_type": "markdown",
   "id": "1306bca5",
   "metadata": {},
   "source": [
    "<a id='2'></a>\n",
    "## (1) Decision Trees\n",
    "We start with creating a DecisionTreeClassifier and fit it to the training data."
   ]
  },
  {
   "cell_type": "code",
   "execution_count": 40,
   "id": "79f5f452",
   "metadata": {},
   "outputs": [
    {
     "data": {
      "text/plain": [
       "DecisionTreeClassifier(random_state=1)"
      ]
     },
     "execution_count": 40,
     "metadata": {},
     "output_type": "execute_result"
    }
   ],
   "source": [
    "from sklearn import tree\n",
    "from sklearn.tree import DecisionTreeClassifier\n",
    "from sklearn.metrics import classification_report, confusion_matrix, accuracy_score\n",
    "\n",
    "dectree = DecisionTreeClassifier(random_state=1)  #crate a DT and save it as dectree\n",
    "\n",
    "# Train the classifier on the training set\n",
    "dectree.fit(X_train, y_train)"
   ]
  },
  {
   "cell_type": "code",
   "execution_count": 41,
   "id": "d30ac3c7",
   "metadata": {},
   "outputs": [],
   "source": [
    "dectree = dectree.fit(X_train, y_train)"
   ]
  },
  {
   "cell_type": "markdown",
   "id": "f0caf87c",
   "metadata": {},
   "source": [
    "<a id='2'></a>\n",
    "## Predictions and Evaluation of DT Model"
   ]
  },
  {
   "cell_type": "code",
   "execution_count": 42,
   "id": "a1b0923b",
   "metadata": {},
   "outputs": [
    {
     "name": "stdout",
     "output_type": "stream",
     "text": [
      "Overall accuracy of DT using test-set is : 100.000000\n"
     ]
    }
   ],
   "source": [
    "predictions_dectree = dectree.predict(X_test)\n",
    "acc_dectree = accuracy_score(y_true = y_test, y_pred = predictions_dectree )\n",
    "print(\"Overall accuracy of DT using test-set is : %f\" %(acc_dectree*100))"
   ]
  },
  {
   "cell_type": "code",
   "execution_count": 43,
   "id": "d2661bac",
   "metadata": {},
   "outputs": [
    {
     "name": "stdout",
     "output_type": "stream",
     "text": [
      "              precision    recall  f1-score   support\n",
      "\n",
      "           0       1.00      1.00      1.00        79\n",
      "           1       1.00      1.00      1.00        43\n",
      "\n",
      "    accuracy                           1.00       122\n",
      "   macro avg       1.00      1.00      1.00       122\n",
      "weighted avg       1.00      1.00      1.00       122\n",
      "\n"
     ]
    }
   ],
   "source": [
    "print(classification_report(y_test, predictions_dectree))"
   ]
  },
  {
   "cell_type": "code",
   "execution_count": 44,
   "id": "58cd6689",
   "metadata": {},
   "outputs": [
    {
     "name": "stdout",
     "output_type": "stream",
     "text": [
      "[[79  0]\n",
      " [ 0 43]]\n"
     ]
    }
   ],
   "source": [
    "print(confusion_matrix(y_test, predictions_dectree))"
   ]
  },
  {
   "cell_type": "markdown",
   "id": "a5494ffd",
   "metadata": {},
   "source": [
    "**Depiction of Decision Tree algorithm**"
   ]
  },
  {
   "cell_type": "code",
   "execution_count": 45,
   "id": "347e201a",
   "metadata": {},
   "outputs": [
    {
     "data": {
      "image/png": "[encoded data removed]",
      "text/plain": [
       "<IPython.core.display.Image object>"
      ]
     },
     "execution_count": 45,
     "metadata": {},
     "output_type": "execute_result"
    }
   ],
   "source": [
    "\n",
    "import pydotplus \n",
    "import graphviz\n",
    "\n",
    "from IPython.display import Image\n",
    "from sklearn.tree import export_graphviz\n",
    "from six import StringIO\n",
    "import pydotplus\n",
    "\n",
    "#create DOT data\n",
    "dot_data = tree.export_graphviz(dectree,\n",
    "                                out_file=None,\n",
    "                                filled=True,\n",
    "                                rounded=True,\n",
    "                                special_characters=True)  \n",
    "\n",
    "#create graph\n",
    "graph = pydotplus.graph_from_dot_data(dot_data)  \n",
    "\n",
    "from IPython.display import Image \n",
    "\n",
    "#show graph\n",
    "Image(graph.create_png()) \n",
    " "
   ]
  },
  {
   "cell_type": "markdown",
   "id": "8e13f8d9",
   "metadata": {},
   "source": [
    "**Evaluating Model Performance**"
   ]
  },
  {
   "cell_type": "markdown",
   "id": "b74b97fa",
   "metadata": {},
   "source": [
    "**Metrics**\n",
    "\n",
    "We can use F-beta score as a metric that considers both precision and recall:\n",
    "\n",
    "𝐹𝛽=(1+𝛽2)⋅(𝑝𝑟𝑒𝑐𝑖𝑠𝑖𝑜𝑛⋅𝑟𝑒𝑐𝑎𝑙𝑙/(𝛽2⋅𝑝𝑟𝑒𝑐𝑖𝑠𝑖𝑜𝑛)+𝑟𝑒𝑐𝑎𝑙𝑙)\n",
    " \n",
    "In particular, when  𝛽=0.5 , more emphasis is placed on precision. This is called the F 0.5  score (or F-score for simplicity).\n",
    "\n",
    "**Note** : Recap of accuracy, precision, recall\n",
    "\n",
    "**Accuracy** measures how often the classifier makes the correct prediction. It’s the ratio of the number of correct predictions to the total number of predictions (the number of test data points).\n",
    "\n",
    "**Precision** tells us what proportion of messages we classified as spam, actually were spam. It is a ratio of true positives(words classified as spam, and which are actually spam) to all positives(all words classified as spam, irrespective of whether that was the correct classificatio), in other words it is the ratio of\n",
    "\n",
    "[True Positives/(True Positives + False Positives)]\n",
    "\n",
    "**Recall (sensitivity)** tells us what proportion of messages that actually were spam were classified by us as spam. It is a ratio of true positives(words classified as spam, and which are actually spam) to all the words that were actually spam, in other words it is the ratio of\n",
    "\n",
    "[True Positives/(True Positives + False Negatives)]"
   ]
  },
  {
   "cell_type": "code",
   "execution_count": 46,
   "id": "510916fc",
   "metadata": {},
   "outputs": [],
   "source": [
    "# make class predictions for the testing set\n",
    "y_pred_class = dectree.predict(X_test)"
   ]
  },
  {
   "cell_type": "code",
   "execution_count": 47,
   "id": "f1bb9664",
   "metadata": {},
   "outputs": [
    {
     "name": "stdout",
     "output_type": "stream",
     "text": [
      "True: [1 0 0 1 1 0 1 1 0 0 0 0 0 1 0 0 0 0 0 1 0 1 0 1 0]\n",
      "False: [1 0 0 1 1 0 1 1 0 0 0 0 0 1 0 0 0 0 0 1 0 1 0 1 0]\n"
     ]
    }
   ],
   "source": [
    "# print the first 25 true and predicted responses\n",
    "print('True:', y_test.values[0:25])\n",
    "print('False:', y_pred_class[0:25])"
   ]
  },
  {
   "cell_type": "code",
   "execution_count": 48,
   "id": "76c41bb2",
   "metadata": {},
   "outputs": [
    {
     "name": "stdout",
     "output_type": "stream",
     "text": [
      "[[79  0]\n",
      " [ 0 43]]\n"
     ]
    }
   ],
   "source": [
    "from sklearn import metrics\n",
    "# IMPORTANT: first argument is true values, second argument is predicted values\n",
    "# this produces a 2x2 numpy array (matrix)\n",
    "#print(metrics.confusion_matrix(y_test, y_pred_class))\n",
    "\n",
    "# save confusion matrix and slice into four pieces\n",
    "confusion = metrics.confusion_matrix(y_test, y_pred_class)\n",
    "print(confusion)\n",
    "#[row, column]\n",
    "TP = confusion[1, 1]    #43\n",
    "TN = confusion[0, 0]    #79\n",
    "FP = confusion[0, 1]    #0\n",
    "FN = confusion[1, 0]    #0"
   ]
  },
  {
   "cell_type": "markdown",
   "id": "c5f5c5ec",
   "metadata": {},
   "source": [
    "**Metrics computed from a confusion matrix**"
   ]
  },
  {
   "cell_type": "markdown",
   "id": "5465e8a2",
   "metadata": {},
   "source": [
    "**Classification Accuracy** : Overall, how often is the classifier correct?"
   ]
  },
  {
   "cell_type": "code",
   "execution_count": 49,
   "id": "a39a6da1",
   "metadata": {},
   "outputs": [
    {
     "name": "stdout",
     "output_type": "stream",
     "text": [
      "1.0\n"
     ]
    }
   ],
   "source": [
    "# use float to perform true division, not integer division\n",
    "print((TP + TN) / float(TP + TN + FP + FN))"
   ]
  },
  {
   "cell_type": "markdown",
   "id": "02868ac9",
   "metadata": {},
   "source": [
    "**Classification Error** : Overall, how often is the classifier incorrect?"
   ]
  },
  {
   "cell_type": "code",
   "execution_count": 50,
   "id": "ce8f7350",
   "metadata": {},
   "outputs": [
    {
     "name": "stdout",
     "output_type": "stream",
     "text": [
      "0.0\n"
     ]
    }
   ],
   "source": [
    "classification_error = (FP + FN) / float(TP + TN + FP + FN)\n",
    "\n",
    "print(classification_error)"
   ]
  },
  {
   "cell_type": "markdown",
   "id": "54ceaf1a",
   "metadata": {},
   "source": [
    "**Sensitivity** : When the actual value is positive, how often is the prediction correct?"
   ]
  },
  {
   "cell_type": "code",
   "execution_count": 51,
   "id": "97433c47",
   "metadata": {},
   "outputs": [
    {
     "name": "stdout",
     "output_type": "stream",
     "text": [
      "1.0\n",
      "1.0\n"
     ]
    }
   ],
   "source": [
    "sensitivity = TP / float(FN + TP)\n",
    "\n",
    "print(sensitivity)\n",
    "print(metrics.recall_score(y_test, y_pred_class))"
   ]
  },
  {
   "cell_type": "markdown",
   "id": "50d66766",
   "metadata": {},
   "source": [
    "**Specificity**: When the actual value is negative, how often is the prediction correct?"
   ]
  },
  {
   "cell_type": "code",
   "execution_count": 52,
   "id": "9f3fc030",
   "metadata": {},
   "outputs": [
    {
     "name": "stdout",
     "output_type": "stream",
     "text": [
      "1.0\n"
     ]
    }
   ],
   "source": [
    "specificity = TN / (TN + FP)\n",
    "\n",
    "print(specificity)"
   ]
  },
  {
   "cell_type": "markdown",
   "id": "9842e0cc",
   "metadata": {},
   "source": [
    "**False Positive Rate** : When the actual value is negative, how often is the prediction incorrect?"
   ]
  },
  {
   "cell_type": "code",
   "execution_count": 53,
   "id": "fc0e5990",
   "metadata": {},
   "outputs": [
    {
     "name": "stdout",
     "output_type": "stream",
     "text": [
      "0.0\n"
     ]
    }
   ],
   "source": [
    "false_positive_rate = FP / float(TN + FP)\n",
    "\n",
    "print(false_positive_rate)\n",
    "#print(1 - specificity)"
   ]
  },
  {
   "cell_type": "markdown",
   "id": "eb7f7008",
   "metadata": {},
   "source": [
    "**Precision** : When a positive value is predicted, how often is the prediction correct?"
   ]
  },
  {
   "cell_type": "code",
   "execution_count": 54,
   "id": "00d97950",
   "metadata": {},
   "outputs": [
    {
     "name": "stdout",
     "output_type": "stream",
     "text": [
      "1.0\n"
     ]
    }
   ],
   "source": [
    "precision = TP / float(TP + FP)\n",
    "\n",
    "#print(precision)\n",
    "print(metrics.precision_score(y_test, y_pred_class))"
   ]
  },
  {
   "cell_type": "markdown",
   "id": "8dc754ea",
   "metadata": {},
   "source": [
    "### Cross-validation:\n",
    "\n",
    "Now instead of a single train/test split, We use K-Fold cross validation to get a better measure of your model's accuracy (K=10).\n"
   ]
  },
  {
   "cell_type": "code",
   "execution_count": 55,
   "id": "4542767d",
   "metadata": {},
   "outputs": [
    {
     "data": {
      "text/plain": [
       "1.0"
      ]
     },
     "execution_count": 55,
     "metadata": {},
     "output_type": "execute_result"
    }
   ],
   "source": [
    "from sklearn.model_selection import cross_val_score\n",
    "\n",
    "dectree = DecisionTreeClassifier(random_state=1)\n",
    "\n",
    "cv_scores = cross_val_score(dectree, features_final, asd_class, cv=10)\n",
    "\n",
    "cv_scores.mean()"
   ]
  },
  {
   "cell_type": "markdown",
   "id": "7b2a4215",
   "metadata": {},
   "source": [
    "### AUC Score: \n",
    "\n",
    "AUC is the percentage of the ROC plot that is underneath the curve"
   ]
  },
  {
   "cell_type": "code",
   "execution_count": 56,
   "id": "5708eb8c",
   "metadata": {},
   "outputs": [
    {
     "data": {
      "text/plain": [
       "1.0"
      ]
     },
     "execution_count": 56,
     "metadata": {},
     "output_type": "execute_result"
    }
   ],
   "source": [
    "# calculate cross-validated AUC\n",
    "from sklearn.model_selection import cross_val_score\n",
    "cross_val_score(dectree, features_final, asd_class, cv=10, scoring='roc_auc').mean()"
   ]
  },
  {
   "cell_type": "markdown",
   "id": "c5f73f36",
   "metadata": {},
   "source": [
    "### F-beta Score:"
   ]
  },
  {
   "cell_type": "code",
   "execution_count": 57,
   "id": "f2ca94c8",
   "metadata": {},
   "outputs": [
    {
     "data": {
      "text/plain": [
       "1.0"
      ]
     },
     "execution_count": 57,
     "metadata": {},
     "output_type": "execute_result"
    }
   ],
   "source": [
    "dectree.fit(X_train, y_train)\n",
    "from sklearn.metrics import fbeta_score\n",
    "predictions_test = dectree.predict(X_test)\n",
    "fbeta_score(y_test, predictions_test, average='binary', beta=0.5)"
   ]
  },
  {
   "cell_type": "code",
   "execution_count": null,
   "id": "ada3d4b7",
   "metadata": {},
   "outputs": [],
   "source": []
  },
  {
   "cell_type": "markdown",
   "id": "f2b30bb1",
   "metadata": {},
   "source": [
    "---\n",
    "<a id='2'></a>\n",
    "## (2) Random Forest\n",
    "\n",
    "Now I apply a **RandomForestClassifier** instead to see whether it performs better."
   ]
  },
  {
   "cell_type": "code",
   "execution_count": 58,
   "id": "eaaf1982",
   "metadata": {},
   "outputs": [
    {
     "data": {
      "text/plain": [
       "0.9967213114754099"
      ]
     },
     "execution_count": 58,
     "metadata": {},
     "output_type": "execute_result"
    }
   ],
   "source": [
    "from sklearn.ensemble import RandomForestClassifier\n",
    "from sklearn.metrics import classification_report, confusion_matrix, accuracy_score\n",
    "ranfor = RandomForestClassifier(n_estimators=5, random_state=1)\n",
    "cv_scores = cross_val_score(ranfor, features_final, asd_class, cv=10)\n",
    "cv_scores.mean()"
   ]
  },
  {
   "cell_type": "code",
   "execution_count": 59,
   "id": "fe56016a",
   "metadata": {},
   "outputs": [],
   "source": [
    "ranfor = ranfor.fit(X_train, y_train)"
   ]
  },
  {
   "cell_type": "markdown",
   "id": "8f275e0e",
   "metadata": {},
   "source": [
    "## <a id='2'></a>\n",
    "## Predictions and Evaluation of RF Model"
   ]
  },
  {
   "cell_type": "code",
   "execution_count": 60,
   "id": "e3925724",
   "metadata": {},
   "outputs": [
    {
     "name": "stdout",
     "output_type": "stream",
     "text": [
      "Overall accuracy of RFM using test-set is : 99.180328\n"
     ]
    }
   ],
   "source": [
    "predictions_rf = ranfor.predict(X_test)\n",
    "acc_rf = accuracy_score(y_true = y_test, y_pred = predictions_rf )\n",
    "print(\"Overall accuracy of RFM using test-set is : %f\" %(acc_rf*100))"
   ]
  },
  {
   "cell_type": "code",
   "execution_count": 61,
   "id": "43420d3b",
   "metadata": {},
   "outputs": [
    {
     "name": "stdout",
     "output_type": "stream",
     "text": [
      "              precision    recall  f1-score   support\n",
      "\n",
      "           0       0.99      1.00      0.99        79\n",
      "           1       1.00      0.98      0.99        43\n",
      "\n",
      "    accuracy                           0.99       122\n",
      "   macro avg       0.99      0.99      0.99       122\n",
      "weighted avg       0.99      0.99      0.99       122\n",
      "\n"
     ]
    }
   ],
   "source": [
    "print(classification_report(y_test, predictions_rf))"
   ]
  },
  {
   "cell_type": "code",
   "execution_count": 62,
   "id": "a671d626",
   "metadata": {},
   "outputs": [
    {
     "name": "stdout",
     "output_type": "stream",
     "text": [
      "[[79  0]\n",
      " [ 1 42]]\n"
     ]
    }
   ],
   "source": [
    "print(confusion_matrix(y_test, predictions_rf))"
   ]
  },
  {
   "cell_type": "markdown",
   "id": "35265343",
   "metadata": {},
   "source": [
    "AUC Score: AUC is the percentage of the ROC plot that is underneath the curve"
   ]
  },
  {
   "cell_type": "code",
   "execution_count": 63,
   "id": "177a75ba",
   "metadata": {},
   "outputs": [
    {
     "data": {
      "text/plain": [
       "0.9994832041343669"
      ]
     },
     "execution_count": 63,
     "metadata": {},
     "output_type": "execute_result"
    }
   ],
   "source": [
    "# calculate cross-validated AUC\n",
    "from sklearn.model_selection import cross_val_score\n",
    "cross_val_score(ranfor, features_final, asd_class, cv=10, scoring='roc_auc').mean()"
   ]
  },
  {
   "cell_type": "markdown",
   "id": "801cf442",
   "metadata": {},
   "source": [
    "F-beta Score:"
   ]
  },
  {
   "cell_type": "code",
   "execution_count": 64,
   "id": "cf7db34e",
   "metadata": {},
   "outputs": [
    {
     "data": {
      "text/plain": [
       "0.995260663507109"
      ]
     },
     "execution_count": 64,
     "metadata": {},
     "output_type": "execute_result"
    }
   ],
   "source": [
    "ranfor.fit(X_train, y_train)\n",
    "from sklearn.metrics import fbeta_score\n",
    "predictions_test = ranfor.predict(X_test)\n",
    "fbeta_score(y_test, predictions_test, average='binary', beta=0.5)"
   ]
  },
  {
   "cell_type": "markdown",
   "id": "1d87a6b6",
   "metadata": {},
   "source": [
    "---\n",
    "<a id='3'></a>\n",
    "## (3) SVM\n",
    "\n",
    "Next We tried using svm.SVC with a linear kernel and see how well it does in comparison to the decision tree."
   ]
  },
  {
   "cell_type": "code",
   "execution_count": 65,
   "id": "c1d45291",
   "metadata": {},
   "outputs": [],
   "source": [
    "from sklearn import svm\n",
    "from sklearn.svm import SVC\n",
    "from sklearn.metrics import classification_report, confusion_matrix, accuracy_score\n",
    "\n",
    "C = 1.0\n",
    "svc = svm.SVC(kernel='linear', C=C, gamma=2)"
   ]
  },
  {
   "cell_type": "code",
   "execution_count": 66,
   "id": "6c0908fa",
   "metadata": {},
   "outputs": [],
   "source": [
    "model_svm = SVC()"
   ]
  },
  {
   "cell_type": "code",
   "execution_count": 67,
   "id": "80ba3221",
   "metadata": {},
   "outputs": [
    {
     "data": {
      "text/plain": [
       "SVC()"
      ]
     },
     "execution_count": 67,
     "metadata": {},
     "output_type": "execute_result"
    }
   ],
   "source": [
    "model_svm.fit(X_train, y_train)"
   ]
  },
  {
   "cell_type": "markdown",
   "id": "57d9b696",
   "metadata": {},
   "source": [
    "<a id='2'></a>\n",
    "## Predictions and Evaluation of SVM Model"
   ]
  },
  {
   "cell_type": "code",
   "execution_count": 68,
   "id": "5f100dcd",
   "metadata": {},
   "outputs": [
    {
     "name": "stdout",
     "output_type": "stream",
     "text": [
      "Overall accuracy of SVM using test-set is : 98.360656\n"
     ]
    }
   ],
   "source": [
    "predictions_svm = model_svm.predict(X_test)\n",
    "acc_svm = accuracy_score(y_true = y_test, y_pred = predictions_svm)\n",
    "print(\"Overall accuracy of SVM using test-set is : %f\" %(acc_svm*100))"
   ]
  },
  {
   "cell_type": "code",
   "execution_count": 69,
   "id": "7a481cbf",
   "metadata": {},
   "outputs": [
    {
     "name": "stdout",
     "output_type": "stream",
     "text": [
      "              precision    recall  f1-score   support\n",
      "\n",
      "           0       1.00      0.97      0.99        79\n",
      "           1       0.96      1.00      0.98        43\n",
      "\n",
      "    accuracy                           0.98       122\n",
      "   macro avg       0.98      0.99      0.98       122\n",
      "weighted avg       0.98      0.98      0.98       122\n",
      "\n"
     ]
    }
   ],
   "source": [
    "print(classification_report(y_test, predictions_svm))"
   ]
  },
  {
   "cell_type": "code",
   "execution_count": 70,
   "id": "396668a8",
   "metadata": {},
   "outputs": [
    {
     "name": "stdout",
     "output_type": "stream",
     "text": [
      "[[77  2]\n",
      " [ 0 43]]\n"
     ]
    }
   ],
   "source": [
    "print(confusion_matrix(y_test, predictions_svm))"
   ]
  },
  {
   "cell_type": "code",
   "execution_count": 71,
   "id": "7beffda9",
   "metadata": {},
   "outputs": [
    {
     "data": {
      "text/plain": [
       "1.0"
      ]
     },
     "execution_count": 71,
     "metadata": {},
     "output_type": "execute_result"
    }
   ],
   "source": [
    "cv_scores = cross_val_score(svc, features_final, asd_class, cv=10)\n",
    "\n",
    "cv_scores.mean()"
   ]
  },
  {
   "cell_type": "markdown",
   "id": "768d7ffa",
   "metadata": {},
   "source": [
    "AUC Score: AUC is the percentage of the ROC plot that is underneath the curve"
   ]
  },
  {
   "cell_type": "code",
   "execution_count": 72,
   "id": "6609403d",
   "metadata": {},
   "outputs": [
    {
     "data": {
      "text/plain": [
       "1.0"
      ]
     },
     "execution_count": 72,
     "metadata": {},
     "output_type": "execute_result"
    }
   ],
   "source": [
    "# calculate cross-validated AUC\n",
    "from sklearn.model_selection import cross_val_score\n",
    "cross_val_score(svc, features_final, asd_class, cv=10, scoring='roc_auc').mean()"
   ]
  },
  {
   "cell_type": "markdown",
   "id": "e4617b82",
   "metadata": {},
   "source": [
    "F-beta Score:"
   ]
  },
  {
   "cell_type": "code",
   "execution_count": 73,
   "id": "9249346d",
   "metadata": {},
   "outputs": [
    {
     "data": {
      "text/plain": [
       "1.0"
      ]
     },
     "execution_count": 73,
     "metadata": {},
     "output_type": "execute_result"
    }
   ],
   "source": [
    "svc.fit(X_train, y_train)\n",
    "from sklearn.metrics import fbeta_score\n",
    "predictions_test = svc.predict(X_test)\n",
    "fbeta_score(y_test, predictions_test, average='binary', beta=0.5)"
   ]
  },
  {
   "cell_type": "markdown",
   "id": "7eb03bbb",
   "metadata": {},
   "source": [
    "---\n",
    "<a id='4'></a>\n",
    "\n",
    "## (4) K-Nearest-Neighbors (KNN)\n",
    "Next, we explore the K-Nearest-Neighbors algorithm with a starting value of K=10. Recall that K is an example of a hyperparameter - a parameter on the model itself which may need to be tuned for best results on your particular data set."
   ]
  },
  {
   "cell_type": "code",
   "execution_count": 74,
   "id": "2951d783",
   "metadata": {},
   "outputs": [
    {
     "data": {
      "text/plain": [
       "0.9540163934426229"
      ]
     },
     "execution_count": 74,
     "metadata": {},
     "output_type": "execute_result"
    }
   ],
   "source": [
    "from sklearn import neighbors\n",
    "from sklearn.metrics import classification_report, confusion_matrix, accuracy_score\n",
    "\n",
    "knn = neighbors.KNeighborsClassifier(n_neighbors=5)\n",
    "cv_scores = cross_val_score(knn, features_final, asd_class, cv=10)\n",
    "\n",
    "cv_scores.mean()"
   ]
  },
  {
   "cell_type": "code",
   "execution_count": 75,
   "id": "5a3f934d",
   "metadata": {},
   "outputs": [
    {
     "data": {
      "text/plain": [
       "KNeighborsClassifier()"
      ]
     },
     "execution_count": 75,
     "metadata": {},
     "output_type": "execute_result"
    }
   ],
   "source": [
    "knn.fit(X_train, y_train)"
   ]
  },
  {
   "cell_type": "markdown",
   "id": "e58e7503",
   "metadata": {},
   "source": [
    "<a id='2'></a>\n",
    "## Predictions and Evaluation of kNN Model"
   ]
  },
  {
   "cell_type": "code",
   "execution_count": 76,
   "id": "f35f7abf",
   "metadata": {},
   "outputs": [
    {
     "name": "stdout",
     "output_type": "stream",
     "text": [
      "Overall accuracy of kNN using test-set is : 95.081967\n"
     ]
    }
   ],
   "source": [
    "predictions_knn=knn.predict(X_test)\n",
    "acc_knn = accuracy_score(y_true = y_test, y_pred = predictions_knn)\n",
    "print(\"Overall accuracy of kNN using test-set is : %f\" %(acc_knn*100))"
   ]
  },
  {
   "cell_type": "code",
   "execution_count": 77,
   "id": "f98d6120",
   "metadata": {},
   "outputs": [
    {
     "name": "stdout",
     "output_type": "stream",
     "text": [
      "              precision    recall  f1-score   support\n",
      "\n",
      "           0       0.99      0.94      0.96        79\n",
      "           1       0.89      0.98      0.93        43\n",
      "\n",
      "    accuracy                           0.95       122\n",
      "   macro avg       0.94      0.96      0.95       122\n",
      "weighted avg       0.95      0.95      0.95       122\n",
      "\n"
     ]
    }
   ],
   "source": [
    "print(classification_report(y_test, predictions_knn))"
   ]
  },
  {
   "cell_type": "code",
   "execution_count": 78,
   "id": "65a4bc88",
   "metadata": {},
   "outputs": [
    {
     "name": "stdout",
     "output_type": "stream",
     "text": [
      "[[74  5]\n",
      " [ 1 42]]\n"
     ]
    }
   ],
   "source": [
    "print(confusion_matrix(y_test, predictions_knn))"
   ]
  },
  {
   "cell_type": "markdown",
   "id": "e34654b9",
   "metadata": {},
   "source": [
    "AUC Score: AUC is the percentage of the ROC plot that is underneath the curve"
   ]
  },
  {
   "cell_type": "code",
   "execution_count": 79,
   "id": "8e102571",
   "metadata": {},
   "outputs": [
    {
     "data": {
      "text/plain": [
       "0.9891965054755752"
      ]
     },
     "execution_count": 79,
     "metadata": {},
     "output_type": "execute_result"
    }
   ],
   "source": [
    "# calculate cross-validated AUC\n",
    "from sklearn.model_selection import cross_val_score\n",
    "cross_val_score(knn, features_final, asd_class, cv=10, scoring='roc_auc').mean()"
   ]
  },
  {
   "cell_type": "markdown",
   "id": "b2047c52",
   "metadata": {},
   "source": [
    "F-beta Score:"
   ]
  },
  {
   "cell_type": "code",
   "execution_count": 80,
   "id": "c9aaa48b",
   "metadata": {},
   "outputs": [
    {
     "data": {
      "text/plain": [
       "0.9090909090909091"
      ]
     },
     "execution_count": 80,
     "metadata": {},
     "output_type": "execute_result"
    }
   ],
   "source": [
    "knn.fit(X_train, y_train)\n",
    "from sklearn.metrics import fbeta_score\n",
    "predictions_test = knn.predict(X_test)\n",
    "fbeta_score(y_test, predictions_test, average='binary', beta=0.5)"
   ]
  },
  {
   "cell_type": "markdown",
   "id": "8c671337",
   "metadata": {},
   "source": [
    "Choosing K is tricky, so we can't discard KNN until we've tried different values of K. Hence we write a for loop to run KNN with K values ranging from 10 to 50 and see if K makes a substantial difference.\n"
   ]
  },
  {
   "cell_type": "code",
   "execution_count": 81,
   "id": "e8adb5bc",
   "metadata": {},
   "outputs": [
    {
     "name": "stdout",
     "output_type": "stream",
     "text": [
      "10 0.9573770491803278\n",
      "11 0.9622950819672133\n",
      "12 0.9639344262295083\n",
      "13 0.9606284153005463\n",
      "14 0.9671857923497267\n",
      "15 0.9655737704918032\n",
      "16 0.9672131147540982\n",
      "17 0.9655737704918034\n",
      "18 0.9655737704918034\n",
      "19 0.962295081967213\n",
      "20 0.9672131147540984\n",
      "21 0.9655737704918034\n",
      "22 0.9655737704918034\n",
      "23 0.9672131147540984\n",
      "24 0.9704918032786886\n",
      "25 0.9704918032786886\n",
      "26 0.9704918032786886\n",
      "27 0.9721311475409836\n",
      "28 0.9688524590163935\n",
      "29 0.9721311475409836\n",
      "30 0.9704918032786886\n",
      "31 0.9721038251366119\n",
      "32 0.9721311475409836\n",
      "33 0.9721038251366119\n",
      "34 0.9688251366120217\n",
      "35 0.9704644808743168\n",
      "36 0.9687978142076503\n",
      "37 0.9671584699453553\n",
      "38 0.9638797814207651\n",
      "39 0.9638797814207651\n",
      "40 0.9606010928961748\n",
      "41 0.9622404371584701\n",
      "42 0.9622404371584701\n",
      "43 0.9622404371584701\n",
      "44 0.9639071038251366\n",
      "45 0.9639071038251366\n",
      "46 0.9639071038251366\n",
      "47 0.9688251366120217\n",
      "48 0.9671857923497267\n",
      "49 0.9688251366120217\n"
     ]
    }
   ],
   "source": [
    "for n in range(10, 50):\n",
    "    knn = neighbors.KNeighborsClassifier(n_neighbors=n)\n",
    "    cv_scores = cross_val_score(knn, features_final, asd_class, cv=10)\n",
    "    print (n, cv_scores.mean())"
   ]
  },
  {
   "cell_type": "markdown",
   "id": "2ef4f0a5",
   "metadata": {},
   "source": [
    "---\n",
    "<a id='5'></a>\n",
    "\n",
    "## (5) Naive Bayes\n",
    "\n",
    "Now we tried naive_bayes.MultinomialNB classifier and ask how does its accuracy stack up."
   ]
  },
  {
   "cell_type": "code",
   "execution_count": 82,
   "id": "75204300",
   "metadata": {},
   "outputs": [
    {
     "data": {
      "text/plain": [
       "0.8998087431693989"
      ]
     },
     "execution_count": 82,
     "metadata": {},
     "output_type": "execute_result"
    }
   ],
   "source": [
    "from sklearn.naive_bayes import MultinomialNB\n",
    "from sklearn.metrics import classification_report, confusion_matrix, accuracy_score\n",
    "\n",
    "\n",
    "nb = MultinomialNB()\n",
    "cv_scores = cross_val_score(nb, features_final, asd_class, cv=10)\n",
    "\n",
    "cv_scores.mean()"
   ]
  },
  {
   "cell_type": "code",
   "execution_count": 83,
   "id": "eca0e941",
   "metadata": {},
   "outputs": [
    {
     "data": {
      "text/plain": [
       "MultinomialNB()"
      ]
     },
     "execution_count": 83,
     "metadata": {},
     "output_type": "execute_result"
    }
   ],
   "source": [
    "nb.fit(X_train, y_train)"
   ]
  },
  {
   "cell_type": "markdown",
   "id": "420cb245",
   "metadata": {},
   "source": [
    "<a id='2'></a>\n",
    "## Predictions and Evaluation of NB Model"
   ]
  },
  {
   "cell_type": "code",
   "execution_count": 84,
   "id": "23652cfe",
   "metadata": {},
   "outputs": [
    {
     "name": "stdout",
     "output_type": "stream",
     "text": [
      "Overall accuracy of NB using test-set is : 87.704918\n"
     ]
    }
   ],
   "source": [
    "predictions_nb=nb.predict(X_test)\n",
    "acc_nb = accuracy_score(y_true = y_test, y_pred = predictions_nb)\n",
    "print(\"Overall accuracy of NB using test-set is : %f\" %(acc_nb*100))"
   ]
  },
  {
   "cell_type": "code",
   "execution_count": 85,
   "id": "0fcf6e7e",
   "metadata": {},
   "outputs": [
    {
     "name": "stdout",
     "output_type": "stream",
     "text": [
      "              precision    recall  f1-score   support\n",
      "\n",
      "           0       0.88      0.94      0.91        79\n",
      "           1       0.87      0.77      0.81        43\n",
      "\n",
      "    accuracy                           0.88       122\n",
      "   macro avg       0.87      0.85      0.86       122\n",
      "weighted avg       0.88      0.88      0.88       122\n",
      "\n"
     ]
    }
   ],
   "source": [
    "print(classification_report(y_test, predictions_nb))"
   ]
  },
  {
   "cell_type": "code",
   "execution_count": 86,
   "id": "22ec81fb",
   "metadata": {},
   "outputs": [
    {
     "name": "stdout",
     "output_type": "stream",
     "text": [
      "[[74  5]\n",
      " [10 33]]\n"
     ]
    }
   ],
   "source": [
    "print(confusion_matrix(y_test, predictions_nb))"
   ]
  },
  {
   "cell_type": "markdown",
   "id": "7515154d",
   "metadata": {},
   "source": [
    "AUC Score: AUC is the percentage of the ROC plot that is underneath the curve"
   ]
  },
  {
   "cell_type": "code",
   "execution_count": 87,
   "id": "cea4b984",
   "metadata": {},
   "outputs": [
    {
     "data": {
      "text/plain": [
       "0.9635043681555308"
      ]
     },
     "execution_count": 87,
     "metadata": {},
     "output_type": "execute_result"
    }
   ],
   "source": [
    "# calculate cross-validated AUC\n",
    "from sklearn.model_selection import cross_val_score\n",
    "cross_val_score(nb, features_final, asd_class, cv=10, scoring='roc_auc').mean()"
   ]
  },
  {
   "cell_type": "markdown",
   "id": "048e193e",
   "metadata": {},
   "source": [
    "F-beta Score:"
   ]
  },
  {
   "cell_type": "code",
   "execution_count": 88,
   "id": "77c98b83",
   "metadata": {},
   "outputs": [
    {
     "data": {
      "text/plain": [
       "0.8461538461538461"
      ]
     },
     "execution_count": 88,
     "metadata": {},
     "output_type": "execute_result"
    }
   ],
   "source": [
    "nb.fit(X_train, y_train)\n",
    "from sklearn.metrics import fbeta_score\n",
    "predictions_test = nb.predict(X_test)\n",
    "fbeta_score(y_test, predictions_test, average='binary', beta=0.5)"
   ]
  },
  {
   "cell_type": "markdown",
   "id": "b22e1e64",
   "metadata": {},
   "source": [
    "---\n",
    "<a id='6'></a>\n",
    "\n",
    "## (6) Logistic Regression\n",
    "\n",
    "We've tried all these fancy techniques, but fundamentally this is just a binary classification problem. Try Logisitic Regression, which is a simple way to tackling this sort of thing."
   ]
  },
  {
   "cell_type": "code",
   "execution_count": 89,
   "id": "b5c4e9c6",
   "metadata": {},
   "outputs": [],
   "source": [
    "from sklearn.impute import SimpleImputer\n"
   ]
  },
  {
   "cell_type": "code",
   "execution_count": 90,
   "id": "2657b6b7",
   "metadata": {},
   "outputs": [],
   "source": [
    "imputer = SimpleImputer(missing_values= np.nan, strategy='mean')"
   ]
  },
  {
   "cell_type": "code",
   "execution_count": 91,
   "id": "f4e22c86",
   "metadata": {},
   "outputs": [
    {
     "data": {
      "text/plain": [
       "SimpleImputer()"
      ]
     },
     "execution_count": 91,
     "metadata": {},
     "output_type": "execute_result"
    }
   ],
   "source": [
    "imputer.fit(features_final)"
   ]
  },
  {
   "cell_type": "code",
   "execution_count": 92,
   "id": "977b9599",
   "metadata": {},
   "outputs": [],
   "source": [
    "features_final = imputer.transform(features_final)"
   ]
  },
  {
   "cell_type": "code",
   "execution_count": 93,
   "id": "cdd05fc2",
   "metadata": {},
   "outputs": [],
   "source": [
    "features_final_1 = pd.DataFrame(features_final)"
   ]
  },
  {
   "cell_type": "code",
   "execution_count": 94,
   "id": "2008b5d2",
   "metadata": {},
   "outputs": [
    {
     "data": {
      "text/plain": [
       "0     0.0\n",
       "1     0.0\n",
       "2     0.0\n",
       "3     0.0\n",
       "4     0.0\n",
       "5     0.0\n",
       "6     0.0\n",
       "7     0.0\n",
       "8     0.0\n",
       "9     0.0\n",
       "10    0.0\n",
       "11    0.0\n",
       "12    0.0\n",
       "13    0.0\n",
       "14    0.0\n",
       "15    0.0\n",
       "16    0.0\n",
       "17    0.0\n",
       "dtype: float64"
      ]
     },
     "execution_count": 94,
     "metadata": {},
     "output_type": "execute_result"
    }
   ],
   "source": [
    "features_final_1.head().isnull().mean()"
   ]
  },
  {
   "cell_type": "code",
   "execution_count": 95,
   "id": "22780eb7",
   "metadata": {},
   "outputs": [
    {
     "data": {
      "text/plain": [
       "0.9966939890710382"
      ]
     },
     "execution_count": 95,
     "metadata": {},
     "output_type": "execute_result"
    }
   ],
   "source": [
    "\n",
    "from sklearn.linear_model import LogisticRegression\n",
    "from sklearn.metrics import classification_report, confusion_matrix, accuracy_score\n",
    "logreg = LogisticRegression()\n",
    "cv_scores = cross_val_score(logreg, features_final_1, asd_class, cv=10)\n",
    "cv_scores.mean()"
   ]
  },
  {
   "cell_type": "code",
   "execution_count": 96,
   "id": "5937d17b",
   "metadata": {},
   "outputs": [
    {
     "data": {
      "text/plain": [
       "LogisticRegression()"
      ]
     },
     "execution_count": 96,
     "metadata": {},
     "output_type": "execute_result"
    }
   ],
   "source": [
    "logreg.fit(X_train, y_train)"
   ]
  },
  {
   "cell_type": "markdown",
   "id": "5e821946",
   "metadata": {},
   "source": [
    "<a id='2'></a>\n",
    "## Predictions and Evaluation of LR Model"
   ]
  },
  {
   "cell_type": "code",
   "execution_count": 97,
   "id": "9ee47202",
   "metadata": {},
   "outputs": [
    {
     "name": "stdout",
     "output_type": "stream",
     "text": [
      "Overall accuracy of LR using test-set is : 100.000000\n"
     ]
    }
   ],
   "source": [
    "predictions_logreg = logreg.predict(X_test)\n",
    "acc_logreg = accuracy_score(y_true = y_test, y_pred = predictions_logreg)\n",
    "print(\"Overall accuracy of LR using test-set is : %f\" %(acc_logreg*100))"
   ]
  },
  {
   "cell_type": "code",
   "execution_count": 98,
   "id": "09c912c4",
   "metadata": {},
   "outputs": [
    {
     "name": "stdout",
     "output_type": "stream",
     "text": [
      "              precision    recall  f1-score   support\n",
      "\n",
      "           0       1.00      1.00      1.00        79\n",
      "           1       1.00      1.00      1.00        43\n",
      "\n",
      "    accuracy                           1.00       122\n",
      "   macro avg       1.00      1.00      1.00       122\n",
      "weighted avg       1.00      1.00      1.00       122\n",
      "\n"
     ]
    }
   ],
   "source": [
    "print(classification_report(y_test, predictions_logreg))"
   ]
  },
  {
   "cell_type": "code",
   "execution_count": 99,
   "id": "6a58f145",
   "metadata": {},
   "outputs": [
    {
     "name": "stdout",
     "output_type": "stream",
     "text": [
      "[[79  0]\n",
      " [ 0 43]]\n"
     ]
    }
   ],
   "source": [
    "print(confusion_matrix(y_test, predictions_logreg))"
   ]
  },
  {
   "cell_type": "markdown",
   "id": "1036ee78",
   "metadata": {},
   "source": [
    "AUC Score: AUC is the percentage of the ROC plot that is underneath the curve"
   ]
  },
  {
   "cell_type": "code",
   "execution_count": 100,
   "id": "840659ea",
   "metadata": {},
   "outputs": [
    {
     "data": {
      "text/plain": [
       "1.0"
      ]
     },
     "execution_count": 100,
     "metadata": {},
     "output_type": "execute_result"
    }
   ],
   "source": [
    "# calculate cross-validated AUC\n",
    "from sklearn.model_selection import cross_val_score\n",
    "cv_scores_roc = cross_val_score(logreg, features_final_1, asd_class, cv=10, scoring='roc_auc').mean()\n",
    "cv_scores_roc.mean()"
   ]
  },
  {
   "cell_type": "markdown",
   "id": "bd275fa9",
   "metadata": {},
   "source": [
    "F-beta Score:"
   ]
  },
  {
   "cell_type": "code",
   "execution_count": 101,
   "id": "2e35b3af",
   "metadata": {},
   "outputs": [
    {
     "data": {
      "text/plain": [
       "1.0"
      ]
     },
     "execution_count": 101,
     "metadata": {},
     "output_type": "execute_result"
    }
   ],
   "source": [
    "logreg.fit(X_train, y_train)\n",
    "from sklearn.metrics import fbeta_score\n",
    "predictions_test = logreg.predict(X_test)\n",
    "fbeta_score(y_test, predictions_test, average='binary', beta=0.5)"
   ]
  },
  {
   "cell_type": "markdown",
   "id": "bdaa8023",
   "metadata": {},
   "source": [
    "---\n",
    "<a id='7'></a>\n",
    "\n",
    "## (7) Linear Discriminant Analysis"
   ]
  },
  {
   "cell_type": "code",
   "execution_count": 102,
   "id": "56a87b9d",
   "metadata": {},
   "outputs": [
    {
     "data": {
      "text/plain": [
       "0.9556284153005464"
      ]
     },
     "execution_count": 102,
     "metadata": {},
     "output_type": "execute_result"
    }
   ],
   "source": [
    "from sklearn.discriminant_analysis import LinearDiscriminantAnalysis\n",
    "from sklearn.metrics import classification_report, confusion_matrix, accuracy_score\n",
    "\n",
    "lda = LinearDiscriminantAnalysis()\n",
    "cv_scores = cross_val_score(lda, features_final, asd_class, cv=10)\n",
    "cv_scores.mean()"
   ]
  },
  {
   "cell_type": "code",
   "execution_count": 103,
   "id": "55d4fe02",
   "metadata": {},
   "outputs": [
    {
     "data": {
      "text/plain": [
       "LinearDiscriminantAnalysis()"
      ]
     },
     "execution_count": 103,
     "metadata": {},
     "output_type": "execute_result"
    }
   ],
   "source": [
    "lda.fit(X_train, y_train)"
   ]
  },
  {
   "cell_type": "markdown",
   "id": "509ce776",
   "metadata": {},
   "source": [
    "<a id='2'></a>\n",
    "## Predictions and Evaluation of LDA Model"
   ]
  },
  {
   "cell_type": "code",
   "execution_count": 104,
   "id": "54bb01c8",
   "metadata": {},
   "outputs": [
    {
     "name": "stdout",
     "output_type": "stream",
     "text": [
      "Overall accuracy of LDA using test-set is : 96.721311\n"
     ]
    }
   ],
   "source": [
    "predictions_lda = lda.predict(X_test)\n",
    "acc_lda = accuracy_score(y_true = y_test, y_pred = predictions_lda)\n",
    "print(\"Overall accuracy of LDA using test-set is : %f\" %(acc_lda*100))"
   ]
  },
  {
   "cell_type": "code",
   "execution_count": 105,
   "id": "02ab9ff2",
   "metadata": {},
   "outputs": [
    {
     "name": "stdout",
     "output_type": "stream",
     "text": [
      "              precision    recall  f1-score   support\n",
      "\n",
      "           0       0.99      0.96      0.97        79\n",
      "           1       0.93      0.98      0.95        43\n",
      "\n",
      "    accuracy                           0.97       122\n",
      "   macro avg       0.96      0.97      0.96       122\n",
      "weighted avg       0.97      0.97      0.97       122\n",
      "\n"
     ]
    }
   ],
   "source": [
    "print(classification_report(y_test, predictions_lda))"
   ]
  },
  {
   "cell_type": "code",
   "execution_count": 106,
   "id": "0c34974f",
   "metadata": {},
   "outputs": [
    {
     "name": "stdout",
     "output_type": "stream",
     "text": [
      "[[76  3]\n",
      " [ 1 42]]\n"
     ]
    }
   ],
   "source": [
    "print(confusion_matrix(y_test, predictions_lda))"
   ]
  },
  {
   "cell_type": "markdown",
   "id": "dd27df68",
   "metadata": {},
   "source": [
    "AUC Score: AUC is the percentage of the ROC plot that is underneath the curve"
   ]
  },
  {
   "cell_type": "code",
   "execution_count": 107,
   "id": "89ca26c1",
   "metadata": {},
   "outputs": [
    {
     "data": {
      "text/plain": [
       "0.9911560231327673"
      ]
     },
     "execution_count": 107,
     "metadata": {},
     "output_type": "execute_result"
    }
   ],
   "source": [
    "# calculate cross-validated AUC\n",
    "from sklearn.model_selection import cross_val_score\n",
    "cv_scores_roc = cross_val_score(lda, features_final, asd_class, cv=10, scoring='roc_auc').mean()\n",
    "cv_scores_roc.mean()"
   ]
  },
  {
   "cell_type": "markdown",
   "id": "e6200c67",
   "metadata": {},
   "source": [
    "F-beta Score:"
   ]
  },
  {
   "cell_type": "code",
   "execution_count": 108,
   "id": "d6da5902",
   "metadata": {},
   "outputs": [
    {
     "data": {
      "text/plain": [
       "0.9417040358744395"
      ]
     },
     "execution_count": 108,
     "metadata": {},
     "output_type": "execute_result"
    }
   ],
   "source": [
    "lda.fit(X_train, y_train)\n",
    "from sklearn.metrics import fbeta_score\n",
    "predictions_test = lda.predict(X_test)\n",
    "fbeta_score(y_test, predictions_test, average='binary', beta=0.5)"
   ]
  },
  {
   "cell_type": "markdown",
   "id": "fb424b50",
   "metadata": {},
   "source": [
    "---\n",
    "<a id='8'></a>\n",
    "## (8) Quadratic Discriminant Analysis"
   ]
  },
  {
   "cell_type": "code",
   "execution_count": 109,
   "id": "f3720c0e",
   "metadata": {},
   "outputs": [
    {
     "name": "stderr",
     "output_type": "stream",
     "text": [
      "C:\\Users\\Snehal Rajapurkar\\anaconda3\\lib\\site-packages\\sklearn\\discriminant_analysis.py:808: UserWarning: Variables are collinear\n",
      "  warnings.warn(\"Variables are collinear\")\n",
      "C:\\Users\\Snehal Rajapurkar\\anaconda3\\lib\\site-packages\\sklearn\\discriminant_analysis.py:808: UserWarning: Variables are collinear\n",
      "  warnings.warn(\"Variables are collinear\")\n",
      "C:\\Users\\Snehal Rajapurkar\\anaconda3\\lib\\site-packages\\sklearn\\discriminant_analysis.py:808: UserWarning: Variables are collinear\n",
      "  warnings.warn(\"Variables are collinear\")\n",
      "C:\\Users\\Snehal Rajapurkar\\anaconda3\\lib\\site-packages\\sklearn\\discriminant_analysis.py:808: UserWarning: Variables are collinear\n",
      "  warnings.warn(\"Variables are collinear\")\n",
      "C:\\Users\\Snehal Rajapurkar\\anaconda3\\lib\\site-packages\\sklearn\\discriminant_analysis.py:808: UserWarning: Variables are collinear\n",
      "  warnings.warn(\"Variables are collinear\")\n",
      "C:\\Users\\Snehal Rajapurkar\\anaconda3\\lib\\site-packages\\sklearn\\discriminant_analysis.py:808: UserWarning: Variables are collinear\n",
      "  warnings.warn(\"Variables are collinear\")\n",
      "C:\\Users\\Snehal Rajapurkar\\anaconda3\\lib\\site-packages\\sklearn\\discriminant_analysis.py:808: UserWarning: Variables are collinear\n",
      "  warnings.warn(\"Variables are collinear\")\n",
      "C:\\Users\\Snehal Rajapurkar\\anaconda3\\lib\\site-packages\\sklearn\\discriminant_analysis.py:808: UserWarning: Variables are collinear\n",
      "  warnings.warn(\"Variables are collinear\")\n",
      "C:\\Users\\Snehal Rajapurkar\\anaconda3\\lib\\site-packages\\sklearn\\discriminant_analysis.py:808: UserWarning: Variables are collinear\n",
      "  warnings.warn(\"Variables are collinear\")\n",
      "C:\\Users\\Snehal Rajapurkar\\anaconda3\\lib\\site-packages\\sklearn\\discriminant_analysis.py:808: UserWarning: Variables are collinear\n",
      "  warnings.warn(\"Variables are collinear\")\n"
     ]
    },
    {
     "data": {
      "text/plain": [
       "0.9408743169398907"
      ]
     },
     "execution_count": 109,
     "metadata": {},
     "output_type": "execute_result"
    }
   ],
   "source": [
    "from sklearn.discriminant_analysis import QuadraticDiscriminantAnalysis\n",
    "from sklearn.metrics import classification_report, confusion_matrix, accuracy_score\n",
    "qda = QuadraticDiscriminantAnalysis()\n",
    "cv_scores = cross_val_score(qda, features_final, asd_class, cv=10)\n",
    "cv_scores.mean()"
   ]
  },
  {
   "cell_type": "code",
   "execution_count": 110,
   "id": "a7f96ba9",
   "metadata": {},
   "outputs": [
    {
     "name": "stderr",
     "output_type": "stream",
     "text": [
      "C:\\Users\\Snehal Rajapurkar\\anaconda3\\lib\\site-packages\\sklearn\\discriminant_analysis.py:808: UserWarning: Variables are collinear\n",
      "  warnings.warn(\"Variables are collinear\")\n"
     ]
    },
    {
     "data": {
      "text/plain": [
       "QuadraticDiscriminantAnalysis()"
      ]
     },
     "execution_count": 110,
     "metadata": {},
     "output_type": "execute_result"
    }
   ],
   "source": [
    "qda.fit(X_train, y_train)"
   ]
  },
  {
   "cell_type": "markdown",
   "id": "7b4137e3",
   "metadata": {},
   "source": [
    "<a id='2'></a>\n",
    "## Predictions and Evaluation of QDA Model"
   ]
  },
  {
   "cell_type": "code",
   "execution_count": 111,
   "id": "f8a0fe21",
   "metadata": {},
   "outputs": [
    {
     "name": "stdout",
     "output_type": "stream",
     "text": [
      "Overall accuracy of QDA using test-set is : 93.442623\n"
     ]
    }
   ],
   "source": [
    "predictions_qda = qda.predict(X_test)\n",
    "acc_qda = accuracy_score(y_true = y_test, y_pred = predictions_qda)\n",
    "print(\"Overall accuracy of QDA using test-set is : %f\" %(acc_qda*100))"
   ]
  },
  {
   "cell_type": "code",
   "execution_count": 112,
   "id": "f0536caa",
   "metadata": {},
   "outputs": [
    {
     "name": "stdout",
     "output_type": "stream",
     "text": [
      "              precision    recall  f1-score   support\n",
      "\n",
      "           0       0.96      0.94      0.95        79\n",
      "           1       0.89      0.93      0.91        43\n",
      "\n",
      "    accuracy                           0.93       122\n",
      "   macro avg       0.92      0.93      0.93       122\n",
      "weighted avg       0.94      0.93      0.93       122\n",
      "\n"
     ]
    }
   ],
   "source": [
    "print(classification_report(y_test, predictions_qda))"
   ]
  },
  {
   "cell_type": "code",
   "execution_count": 113,
   "id": "49c1fc44",
   "metadata": {},
   "outputs": [
    {
     "name": "stdout",
     "output_type": "stream",
     "text": [
      "[[74  5]\n",
      " [ 3 40]]\n"
     ]
    }
   ],
   "source": [
    "print(confusion_matrix(y_test, predictions_qda))"
   ]
  },
  {
   "cell_type": "markdown",
   "id": "b130a10a",
   "metadata": {},
   "source": [
    "AUC Score: AUC is the percentage of the ROC plot that is underneath the curve"
   ]
  },
  {
   "cell_type": "code",
   "execution_count": 114,
   "id": "6a688b18",
   "metadata": {},
   "outputs": [
    {
     "name": "stderr",
     "output_type": "stream",
     "text": [
      "C:\\Users\\Snehal Rajapurkar\\anaconda3\\lib\\site-packages\\sklearn\\discriminant_analysis.py:808: UserWarning: Variables are collinear\n",
      "  warnings.warn(\"Variables are collinear\")\n",
      "C:\\Users\\Snehal Rajapurkar\\anaconda3\\lib\\site-packages\\sklearn\\discriminant_analysis.py:808: UserWarning: Variables are collinear\n",
      "  warnings.warn(\"Variables are collinear\")\n",
      "C:\\Users\\Snehal Rajapurkar\\anaconda3\\lib\\site-packages\\sklearn\\discriminant_analysis.py:808: UserWarning: Variables are collinear\n",
      "  warnings.warn(\"Variables are collinear\")\n",
      "C:\\Users\\Snehal Rajapurkar\\anaconda3\\lib\\site-packages\\sklearn\\discriminant_analysis.py:808: UserWarning: Variables are collinear\n",
      "  warnings.warn(\"Variables are collinear\")\n",
      "C:\\Users\\Snehal Rajapurkar\\anaconda3\\lib\\site-packages\\sklearn\\discriminant_analysis.py:808: UserWarning: Variables are collinear\n",
      "  warnings.warn(\"Variables are collinear\")\n",
      "C:\\Users\\Snehal Rajapurkar\\anaconda3\\lib\\site-packages\\sklearn\\discriminant_analysis.py:808: UserWarning: Variables are collinear\n",
      "  warnings.warn(\"Variables are collinear\")\n",
      "C:\\Users\\Snehal Rajapurkar\\anaconda3\\lib\\site-packages\\sklearn\\discriminant_analysis.py:808: UserWarning: Variables are collinear\n",
      "  warnings.warn(\"Variables are collinear\")\n",
      "C:\\Users\\Snehal Rajapurkar\\anaconda3\\lib\\site-packages\\sklearn\\discriminant_analysis.py:808: UserWarning: Variables are collinear\n",
      "  warnings.warn(\"Variables are collinear\")\n",
      "C:\\Users\\Snehal Rajapurkar\\anaconda3\\lib\\site-packages\\sklearn\\discriminant_analysis.py:808: UserWarning: Variables are collinear\n",
      "  warnings.warn(\"Variables are collinear\")\n",
      "C:\\Users\\Snehal Rajapurkar\\anaconda3\\lib\\site-packages\\sklearn\\discriminant_analysis.py:808: UserWarning: Variables are collinear\n",
      "  warnings.warn(\"Variables are collinear\")\n"
     ]
    },
    {
     "data": {
      "text/plain": [
       "0.9881967515688445"
      ]
     },
     "execution_count": 114,
     "metadata": {},
     "output_type": "execute_result"
    }
   ],
   "source": [
    "# calculate cross-validated AUC\n",
    "from sklearn.model_selection import cross_val_score\n",
    "cv_scores_roc = cross_val_score(qda, features_final, asd_class, cv=10, scoring='roc_auc').mean()\n",
    "cv_scores_roc.mean()"
   ]
  },
  {
   "cell_type": "markdown",
   "id": "2f8847b8",
   "metadata": {},
   "source": [
    "F-beta Score:"
   ]
  },
  {
   "cell_type": "code",
   "execution_count": 115,
   "id": "ec5f0cdf",
   "metadata": {},
   "outputs": [
    {
     "name": "stderr",
     "output_type": "stream",
     "text": [
      "C:\\Users\\Snehal Rajapurkar\\anaconda3\\lib\\site-packages\\sklearn\\discriminant_analysis.py:808: UserWarning: Variables are collinear\n",
      "  warnings.warn(\"Variables are collinear\")\n"
     ]
    },
    {
     "data": {
      "text/plain": [
       "0.8968609865470853"
      ]
     },
     "execution_count": 115,
     "metadata": {},
     "output_type": "execute_result"
    }
   ],
   "source": [
    "qda.fit(X_train, y_train)\n",
    "from sklearn.metrics import fbeta_score\n",
    "predictions_test = qda.predict(X_test)\n",
    "fbeta_score(y_test, predictions_test, average='binary', beta=0.5)"
   ]
  },
  {
   "cell_type": "markdown",
   "id": "5e2d6b04",
   "metadata": {},
   "source": []
  },
  {
   "cell_type": "markdown",
   "id": "3eec2b92",
   "metadata": {},
   "source": [
    "---\n",
    "<a id='step8'></a>\n",
    "\n",
    "## Step 8: Conclusion\n",
    "\n",
    "\n",
    "After exploring our `ASD` dataset with different kind of learning algorithms, We have arrived into this conclusion that all of our model work extremely well with the data. We have used three different `metric` (such as `accuracy`, `AUC score` and `F-score`) to measure the performance of our models, and it seems like all of the `metric` indicated an almost perfect classification of the ASD cases. \n",
    "I think to build a more accurate model, we need to have access to more larger datasets. Here the number of instances after cleaning the data were not so sufficient enough so that we can claim that this model is optimum. As this dataset is only publicly available from Decemeber 2017, I think not many works that deal with this dataset is available online. In that consideration, our models can serve as benchmark models for any machine learning researcher/practitioner who will be interested to explore this dataset further. With this fact in mind, I think this are very well developed model that can detect ASD in indivisuals with certain given attributes."
   ]
  },
  {
   "cell_type": "code",
   "execution_count": 116,
   "id": "0611ab33",
   "metadata": {},
   "outputs": [],
   "source": [
    "li_x = ['DT','RF','SVM','kNN', 'NB', 'LR', 'LDA', 'QDA']\n",
    "li_y = [acc_dectree, acc_rf, acc_svm, acc_knn, acc_nb, acc_logreg, acc_lda, acc_qda]"
   ]
  },
  {
   "cell_type": "code",
   "execution_count": 117,
   "id": "e4c1dea1",
   "metadata": {},
   "outputs": [
    {
     "name": "stdout",
     "output_type": "stream",
     "text": [
      "[1.0, 0.9918032786885246, 0.9836065573770492, 0.9508196721311475, 0.8770491803278688, 1.0, 0.9672131147540983, 0.9344262295081968]\n"
     ]
    },
    {
     "data": {
      "text/plain": [
       "<AxesSubplot:>"
      ]
     },
     "execution_count": 117,
     "metadata": {},
     "output_type": "execute_result"
    },
    {
     "data": {
      "image/png": "[encoded data removed]",
      "text/plain": [
       "<Figure size 432x288 with 1 Axes>"
      ]
     },
     "metadata": {},
     "output_type": "display_data"
    }
   ],
   "source": [
    "import seaborn as sns\n",
    "import matplotlib.pyplot as plt\n",
    "sns.set(style=\"whitegrid\", color_codes=True)\n",
    "print(li_y)\n",
    "sns.barplot(x= li_x, y= li_y)"
   ]
  },
  {
   "cell_type": "markdown",
   "id": "a735f0b9",
   "metadata": {},
   "source": [
    "#### **Give 18 inputs according to following:** <br>\n",
    "\n",
    "A1 -> Does the patient loot at you when you call his/her name? (yes:1, NO:0) <br>\n",
    "A2 -> Does the patient have repetitive behaviour? (yes:1, NO:0) <br>\n",
    "A3 -> Does the patient point to indicate that he/she wants something? (yes:1, NO:0) <br>\n",
    "A4 -> Is the patient facing difficulty realting to people? (yes:1, NO:0) <br>\n",
    "A5 -> Does the adult have obsessive interest? (yes:1, NO:0) <br>\n",
    "A6 -> Does the patient have social anxiety?  (yes:1, NO:0) <br>\n",
    "A7 -> Is there lack of social skills in the patient? (yes:1, NO:0) <br>\n",
    "A8 -> Does the patient face difficulty in eye contact? (yes:1, NO:0) <br>\n",
    "A9 -> Do the patient have repetitive behaviour? (yes:1, NO:0) <br>\n",
    "A10 -> Does the patient have bad executive function? (yes:1, NO:0) <br>\n",
    "<br>\n",
    "What is the patient relation with who is giving this test? -> Health care professional:1, others:2, parent:3, Relative:4, self:5 <br>\n",
    "<br>\n",
    "What is the patient's age? -> 18 and more:1, Less than 18:0 <br>\n",
    "have you used this app before? -> Yes:1, No:0 <br>\n",
    "\n",
    "What is the country of residence of the patient?  -> <br>\n",
    "<br>\n",
    "United States\t0\tSierra Leone\t30 <br>\n",
    "Brazil\t1\tEthiopia\t31 <br>\n",
    "Spain\t2\tViet Nam\t32 <br>\n",
    "New Zealand\t3\tIran\t33 <br>\n",
    "Bahamas\t4\tCosta Rica\t34 <br>\n",
    "Burundi\t5\tGermany\t35 <br>\n",
    "Jordan\t6\tMexico\t36 <br>\n",
    "Ireland\t7\tArmenia\t37 <br>\n",
    "United Arabs Emirates\t8\tIceland\t38 <br>\n",
    "Afghanistan\t9\tNicaragua\t39 <br>\n",
    "United Kingdom\t10\tAustria\t40 <br>\n",
    "South Africa\t11\tRussia\t41 <br>\n",
    "Italy\t12\tAmericanSamoa\t42 <br>\n",
    "Pakisthan\t13\tUruguay\t43 <br>\n",
    "Egypt\t14\tUkraine\t44 <br>\n",
    "Bangladesh\t15\tSerbia\t45 <br>\n",
    "Chile\t16\tPortugal\t46 <br>\n",
    "France\t17\tMalaysia\t47 <br>\n",
    "China\t18\tEcuador\t48 <br>\n",
    "Australia\t19\tNiger\t49 <br>\n",
    "Canada\t20\tBelhium\t50 <br>\n",
    "Saudi Arabia\t21\tBolivia\t51 <br>\n",
    "Netherlands\t22\tAruba\t52 <br>\n",
    "Romania\t23\tFinland\t53 <br>\n",
    "Sweden\t24\tTurkey\t54 <br>\n",
    "Tonga\t25\tNepal\t55 <br>\n",
    "Oman \t26\tIndonesia\t56 <br>\n",
    "India\t27\tAngola\t57 <br>\n",
    "Philippines\t28\tCzech Republic\t58 <br>\n",
    "Sri Lanka\t29\tCyprus\t59 <br>\n",
    "<br>\n",
    "\n",
    "Have u had Autism before?  ->  Yes:1, No:0 <br>\n",
    "Is the patient born with jaundice? ->  Yes:1, No:0<br>\n",
    "<br>\n",
    "What is the ethnicity of the patient? -> <br>\n",
    "White-European:0 <br>\n",
    "Latino:1 <br>\n",
    "Others,others:2 <br>\n",
    "Black:3 <br>\n",
    "Asian:4 <br>\n",
    "Middle Eastern:5 <br>\n",
    "Pasifika: 6 <br>\n",
    "South Asian:7 <br>\n",
    "Hispanic:8 <br>\n",
    "Turkish:9 <br>\n",
    "\n",
    "What is the gender of patient? -> f:0, m:1"
   ]
  },
  {
   "cell_type": "code",
   "execution_count": 118,
   "id": "5f373dec",
   "metadata": {},
   "outputs": [],
   "source": [
    "l = [[1,0,1,1,1,1,0,0,0,1,5,1,0,27,0,0,4,0]]"
   ]
  },
  {
   "cell_type": "code",
   "execution_count": 119,
   "id": "d425bddb",
   "metadata": {},
   "outputs": [],
   "source": [
    "predict = dectree.predict(l)"
   ]
  },
  {
   "cell_type": "code",
   "execution_count": 120,
   "id": "70875240",
   "metadata": {},
   "outputs": [
    {
     "name": "stdout",
     "output_type": "stream",
     "text": [
      "Patient is not having ASD.\n"
     ]
    }
   ],
   "source": [
    "# print(predict)\n",
    "if predict==1:\n",
    "   print(\"Patient is having ASD.\")\n",
    "else:\n",
    "    print(\"Patient is not having ASD.\")"
   ]
  },
  {
   "cell_type": "code",
   "execution_count": 121,
   "id": "fd295dc9",
   "metadata": {},
   "outputs": [],
   "source": [
    "import pickle\n",
    "pickle.dump(logreg, open('modellr.pkl', 'wb'))"
   ]
  },
  {
   "cell_type": "code",
   "execution_count": null,
   "id": "81802cdd",
   "metadata": {},
   "outputs": [],
   "source": []
  },
  {
   "cell_type": "code",
   "execution_count": null,
   "id": "c9c05557",
   "metadata": {},
   "outputs": [],
   "source": []
  },
  {
   "cell_type": "code",
   "execution_count": null,
   "id": "648aa6f3",
   "metadata": {},
   "outputs": [],
   "source": []
  },
  {
   "cell_type": "code",
   "execution_count": null,
   "id": "22e045b6",
   "metadata": {},
   "outputs": [],
   "source": []
  }
 ],
 "metadata": {
  "kernelspec": {
   "display_name": "Python 3.10.4 64-bit",
   "language": "python",
   "name": "python3"
  },
  "language_info": {
   "codemirror_mode": {
    "name": "ipython",
    "version": 3
   },
   "file_extension": ".py",
   "mimetype": "text/x-python",
   "name": "python",
   "nbconvert_exporter": "python",
   "pygments_lexer": "ipython3",
   "version": "3.10.4"
  },
  "vscode": {
   "interpreter": {
    "hash": "369f2c481f4da34e4445cda3fffd2e751bd1c4d706f27375911949ba6bb62e1c"
   }
  }
 },
 "nbformat": 4,
 "nbformat_minor": 5
}
